{
 "cells": [
  {
   "cell_type": "markdown",
   "id": "fecd12c9-d5c4-4767-b3be-f8a15f17d055",
   "metadata": {},
   "source": [
    "# IMDb EDA\n",
    "\n",
    "## Introduction\n",
    "IMDb (Internet Movie Database) is one of the most famous internet sites of movies, that combiens movie description, score, language and many other aspects.\n",
    "\n",
    "The internet site is known for having a large variety of movies, from old movies to movies that are still on planning phase.\n",
    "\n",
    "IMDb stores information of more than 6 million titles (almost 500.000 are movies) and is property of Amazon since 1998."
   ]
  },
  {
   "cell_type": "markdown",
   "id": "26ab2a34-23b3-4f1b-b682-095a8ddb7985",
   "metadata": {},
   "source": [
    "## Objective\n",
    "\n",
    "The objective of this EDA from data collected from IMDb is to determine which are the key variables that make a movie succesful. \n",
    "During the analysis, a positive correlation is found between the \"metascore\" (critics' rating of the movie) and the \"average vote\" (users' rating of the movie). Therefore, any of these two variables can be employed in order to determine  what are the key variables that make a film succesfull, by analyzing the highest scored films. Due to the fact that there is more data from the users' point of view, the variable considered for this analysis is the \"average score\"."
   ]
  },
  {
   "cell_type": "markdown",
   "id": "4830351e-d3ac-4653-b50a-4e8dfea18626",
   "metadata": {},
   "source": [
    "## Context\n",
    "\n",
    "The following video shares a brief story of the creation of IMDb:"
   ]
  },
  {
   "cell_type": "code",
   "execution_count": 5,
   "id": "da462b03-51c1-4207-99aa-bca5227d44f5",
   "metadata": {},
   "outputs": [
    {
     "data": {
      "image/jpeg": "[encoded data removed]",
      "text/html": [
       "\n",
       "        <iframe\n",
       "            width=\"400\"\n",
       "            height=\"300\"\n",
       "            src=\"https://www.youtube.com/embed/Bttf6waezco\"\n",
       "            frameborder=\"0\"\n",
       "            allowfullscreen\n",
       "        ></iframe>\n",
       "        "
      ],
      "text/plain": [
       "<IPython.lib.display.YouTubeVideo at 0x18cbd276430>"
      ]
     },
     "metadata": {},
     "output_type": "display_data"
    }
   ],
   "source": [
    "from IPython.display import YouTubeVideo\n",
    "youtube_video = YouTubeVideo('Bttf6waezco')\n",
    "display(youtube_video)"
   ]
  },
  {
   "cell_type": "markdown",
   "id": "a672d0f1-cbb4-4660-9c3a-83557944f548",
   "metadata": {},
   "source": [
    "## Data dictionary\n",
    "List of variables' names and definitions in the database."
   ]
  },
  {
   "cell_type": "markdown",
   "id": "f44fba72-9ba8-464d-946d-0a15ef9f79e3",
   "metadata": {},
   "source": [
    "|Number| Variable | Definition |\n",
    "|:----:|:--------:|:----------:|\n",
    "| 1| imdb_title_id| Movie ID within the database|\n",
    "| 2| title| Title of the movie|\n",
    "| 3| original_title| Original title of the movie, usually the name by which the movie is known in their country of origin|\n",
    "| 4| year| Year of earliest release of this title globally|\n",
    "| 5| date_published| Exact date of publishing|\n",
    "| 6| genre| Movie genre|\n",
    "| 7| duration| Movie duration|\n",
    "| 8| country| Country where the film was shot|\n",
    "| 9| language| Movie language|\n",
    "| 10| director| Director of the movie|\n",
    "| 11| writer| Writer of the movie|\n",
    "| 12| production_company| Company that produced the film|\n",
    "| 13| actors| Actors and actresses that are part of the film|\n",
    "| 14| description| Movie description|\n",
    "| 15| avg_vote| Weighted average vote. According to IMDb, not all votes have the same impact|\n",
    "| 16| votes| Quantity of votes registered|\n",
    "| 17| buget| Budget of the film|\n",
    "| 18| usa_gross_income| Gross income in USA|\n",
    "| 19| worldwide_gross_income| Worlwide gross income|\n",
    "| 20| metascore| Average of critics' opinion. Needs at least 4 critics' reviews to be calculated|\n",
    "| 21| reviews_from_users| Quantity of reviews that users submit|\n",
    "| 22| reviews_from_critics| Quantity of critics' reviews|"
   ]
  },
  {
   "cell_type": "markdown",
   "id": "8454d05e-2e6d-411d-84ac-8583f09b1544",
   "metadata": {},
   "source": [
    "## Ingestion and structural analysis\n",
    "The dataset is imported in .csv format and so are the libraries pandas, numpy and matplotlib."
   ]
  },
  {
   "cell_type": "code",
   "execution_count": 6,
   "id": "e87edc67-defb-4bb9-a062-055f531b38a2",
   "metadata": {},
   "outputs": [],
   "source": [
    "%matplotlib inline\n",
    "import pandas as pd\n",
    "import numpy as np\n",
    "import matplotlib.pyplot as plt\n",
    "plt.style.use(\"seaborn\")"
   ]
  },
  {
   "cell_type": "markdown",
   "id": "5173d5ff-31cc-4c28-81f1-f2bec3e4563e",
   "metadata": {},
   "source": [
    "The dataset analysed is called movies."
   ]
  },
  {
   "cell_type": "code",
   "execution_count": 7,
   "id": "b6570718-a2c6-458a-a0c2-75c2820ff105",
   "metadata": {},
   "outputs": [
    {
     "name": "stderr",
     "output_type": "stream",
     "text": [
      "C:\\Users\\Micaela Rodriguez\\anaconda3\\lib\\site-packages\\IPython\\core\\interactiveshell.py:3165: DtypeWarning: Columns (3) have mixed types.Specify dtype option on import or set low_memory=False.\n",
      "  has_raised = await self.run_ast_nodes(code_ast.body, cell_name,\n"
     ]
    }
   ],
   "source": [
    "movies = pd.read_csv('Datos/movies.csv')"
   ]
  },
  {
   "cell_type": "markdown",
   "id": "cf0dd94d-d2e6-4a99-8302-349a90ce3925",
   "metadata": {},
   "source": [
    "The alert generated is due to the type of some of the columns. In this case, when opening the file as CSVTable, the amount of columns is rewieved. Since the file isn´t that large, the function \"low_memory=False\" is used."
   ]
  },
  {
   "cell_type": "code",
   "execution_count": 8,
   "id": "9efa7372-8716-422f-96f5-2681cdef5491",
   "metadata": {},
   "outputs": [],
   "source": [
    "movies = pd.read_csv('Datos/movies.csv', low_memory=False, na_values=[\"NaN\",\"\"])"
   ]
  },
  {
   "cell_type": "markdown",
   "id": "a0d4f01f-fc23-4924-8ea5-f57dc007f750",
   "metadata": {},
   "source": [
    "Next, the first five observations are printed."
   ]
  },
  {
   "cell_type": "code",
   "execution_count": 9,
   "id": "167a4c6f-8e56-4cdd-bb78-8f641aa8a313",
   "metadata": {},
   "outputs": [
    {
     "data": {
      "text/html": [
       "<div>\n",
       "<style scoped>\n",
       "    .dataframe tbody tr th:only-of-type {\n",
       "        vertical-align: middle;\n",
       "    }\n",
       "\n",
       "    .dataframe tbody tr th {\n",
       "        vertical-align: top;\n",
       "    }\n",
       "\n",
       "    .dataframe thead th {\n",
       "        text-align: right;\n",
       "    }\n",
       "</style>\n",
       "<table border=\"1\" class=\"dataframe\">\n",
       "  <thead>\n",
       "    <tr style=\"text-align: right;\">\n",
       "      <th></th>\n",
       "      <th>imdb_title_id</th>\n",
       "      <th>title</th>\n",
       "      <th>original_title</th>\n",
       "      <th>year</th>\n",
       "      <th>date_published</th>\n",
       "      <th>genre</th>\n",
       "      <th>duration</th>\n",
       "      <th>country</th>\n",
       "      <th>language</th>\n",
       "      <th>director</th>\n",
       "      <th>...</th>\n",
       "      <th>actors</th>\n",
       "      <th>description</th>\n",
       "      <th>avg_vote</th>\n",
       "      <th>votes</th>\n",
       "      <th>budget</th>\n",
       "      <th>usa_gross_income</th>\n",
       "      <th>worlwide_gross_income</th>\n",
       "      <th>metascore</th>\n",
       "      <th>reviews_from_users</th>\n",
       "      <th>reviews_from_critics</th>\n",
       "    </tr>\n",
       "  </thead>\n",
       "  <tbody>\n",
       "    <tr>\n",
       "      <th>0</th>\n",
       "      <td>tt0000009</td>\n",
       "      <td>Miss Jerry</td>\n",
       "      <td>Miss Jerry</td>\n",
       "      <td>1894</td>\n",
       "      <td>1894-10-09</td>\n",
       "      <td>Romance</td>\n",
       "      <td>45</td>\n",
       "      <td>USA</td>\n",
       "      <td>None</td>\n",
       "      <td>Alexander Black</td>\n",
       "      <td>...</td>\n",
       "      <td>Blanche Bayliss, William Courtenay, Chauncey D...</td>\n",
       "      <td>The adventures of a female reporter in the 1890s.</td>\n",
       "      <td>5.9</td>\n",
       "      <td>154</td>\n",
       "      <td>NaN</td>\n",
       "      <td>NaN</td>\n",
       "      <td>NaN</td>\n",
       "      <td>NaN</td>\n",
       "      <td>1.0</td>\n",
       "      <td>2.0</td>\n",
       "    </tr>\n",
       "    <tr>\n",
       "      <th>1</th>\n",
       "      <td>tt0000574</td>\n",
       "      <td>The Story of the Kelly Gang</td>\n",
       "      <td>The Story of the Kelly Gang</td>\n",
       "      <td>1906</td>\n",
       "      <td>1906-12-26</td>\n",
       "      <td>Biography, Crime, Drama</td>\n",
       "      <td>70</td>\n",
       "      <td>Australia</td>\n",
       "      <td>None</td>\n",
       "      <td>Charles Tait</td>\n",
       "      <td>...</td>\n",
       "      <td>Elizabeth Tait, John Tait, Norman Campbell, Be...</td>\n",
       "      <td>True story of notorious Australian outlaw Ned ...</td>\n",
       "      <td>6.1</td>\n",
       "      <td>589</td>\n",
       "      <td>$ 2250</td>\n",
       "      <td>NaN</td>\n",
       "      <td>NaN</td>\n",
       "      <td>NaN</td>\n",
       "      <td>7.0</td>\n",
       "      <td>7.0</td>\n",
       "    </tr>\n",
       "    <tr>\n",
       "      <th>2</th>\n",
       "      <td>tt0001892</td>\n",
       "      <td>Den sorte drøm</td>\n",
       "      <td>Den sorte drøm</td>\n",
       "      <td>1911</td>\n",
       "      <td>1911-08-19</td>\n",
       "      <td>Drama</td>\n",
       "      <td>53</td>\n",
       "      <td>Germany, Denmark</td>\n",
       "      <td>NaN</td>\n",
       "      <td>Urban Gad</td>\n",
       "      <td>...</td>\n",
       "      <td>Asta Nielsen, Valdemar Psilander, Gunnar Helse...</td>\n",
       "      <td>Two men of high rank are both wooing the beaut...</td>\n",
       "      <td>5.8</td>\n",
       "      <td>188</td>\n",
       "      <td>NaN</td>\n",
       "      <td>NaN</td>\n",
       "      <td>NaN</td>\n",
       "      <td>NaN</td>\n",
       "      <td>5.0</td>\n",
       "      <td>2.0</td>\n",
       "    </tr>\n",
       "    <tr>\n",
       "      <th>3</th>\n",
       "      <td>tt0002101</td>\n",
       "      <td>Cleopatra</td>\n",
       "      <td>Cleopatra</td>\n",
       "      <td>1912</td>\n",
       "      <td>1912-11-13</td>\n",
       "      <td>Drama, History</td>\n",
       "      <td>100</td>\n",
       "      <td>USA</td>\n",
       "      <td>English</td>\n",
       "      <td>Charles L. Gaskill</td>\n",
       "      <td>...</td>\n",
       "      <td>Helen Gardner, Pearl Sindelar, Miss Fielding, ...</td>\n",
       "      <td>The fabled queen of Egypt's affair with Roman ...</td>\n",
       "      <td>5.2</td>\n",
       "      <td>446</td>\n",
       "      <td>$ 45000</td>\n",
       "      <td>NaN</td>\n",
       "      <td>NaN</td>\n",
       "      <td>NaN</td>\n",
       "      <td>25.0</td>\n",
       "      <td>3.0</td>\n",
       "    </tr>\n",
       "    <tr>\n",
       "      <th>4</th>\n",
       "      <td>tt0002130</td>\n",
       "      <td>L'Inferno</td>\n",
       "      <td>L'Inferno</td>\n",
       "      <td>1911</td>\n",
       "      <td>1911-03-06</td>\n",
       "      <td>Adventure, Drama, Fantasy</td>\n",
       "      <td>68</td>\n",
       "      <td>Italy</td>\n",
       "      <td>Italian</td>\n",
       "      <td>Francesco Bertolini, Adolfo Padovan</td>\n",
       "      <td>...</td>\n",
       "      <td>Salvatore Papa, Arturo Pirovano, Giuseppe de L...</td>\n",
       "      <td>Loosely adapted from Dante's Divine Comedy and...</td>\n",
       "      <td>7.0</td>\n",
       "      <td>2237</td>\n",
       "      <td>NaN</td>\n",
       "      <td>NaN</td>\n",
       "      <td>NaN</td>\n",
       "      <td>NaN</td>\n",
       "      <td>31.0</td>\n",
       "      <td>14.0</td>\n",
       "    </tr>\n",
       "  </tbody>\n",
       "</table>\n",
       "<p>5 rows × 22 columns</p>\n",
       "</div>"
      ],
      "text/plain": [
       "  imdb_title_id                        title               original_title  \\\n",
       "0     tt0000009                   Miss Jerry                   Miss Jerry   \n",
       "1     tt0000574  The Story of the Kelly Gang  The Story of the Kelly Gang   \n",
       "2     tt0001892               Den sorte drøm               Den sorte drøm   \n",
       "3     tt0002101                    Cleopatra                    Cleopatra   \n",
       "4     tt0002130                    L'Inferno                    L'Inferno   \n",
       "\n",
       "   year date_published                      genre  duration           country  \\\n",
       "0  1894     1894-10-09                    Romance        45               USA   \n",
       "1  1906     1906-12-26    Biography, Crime, Drama        70         Australia   \n",
       "2  1911     1911-08-19                      Drama        53  Germany, Denmark   \n",
       "3  1912     1912-11-13             Drama, History       100               USA   \n",
       "4  1911     1911-03-06  Adventure, Drama, Fantasy        68             Italy   \n",
       "\n",
       "  language                             director  ...  \\\n",
       "0     None                      Alexander Black  ...   \n",
       "1     None                         Charles Tait  ...   \n",
       "2      NaN                            Urban Gad  ...   \n",
       "3  English                   Charles L. Gaskill  ...   \n",
       "4  Italian  Francesco Bertolini, Adolfo Padovan  ...   \n",
       "\n",
       "                                              actors  \\\n",
       "0  Blanche Bayliss, William Courtenay, Chauncey D...   \n",
       "1  Elizabeth Tait, John Tait, Norman Campbell, Be...   \n",
       "2  Asta Nielsen, Valdemar Psilander, Gunnar Helse...   \n",
       "3  Helen Gardner, Pearl Sindelar, Miss Fielding, ...   \n",
       "4  Salvatore Papa, Arturo Pirovano, Giuseppe de L...   \n",
       "\n",
       "                                         description avg_vote votes   budget  \\\n",
       "0  The adventures of a female reporter in the 1890s.      5.9   154      NaN   \n",
       "1  True story of notorious Australian outlaw Ned ...      6.1   589   $ 2250   \n",
       "2  Two men of high rank are both wooing the beaut...      5.8   188      NaN   \n",
       "3  The fabled queen of Egypt's affair with Roman ...      5.2   446  $ 45000   \n",
       "4  Loosely adapted from Dante's Divine Comedy and...      7.0  2237      NaN   \n",
       "\n",
       "   usa_gross_income worlwide_gross_income metascore reviews_from_users  \\\n",
       "0               NaN                   NaN       NaN                1.0   \n",
       "1               NaN                   NaN       NaN                7.0   \n",
       "2               NaN                   NaN       NaN                5.0   \n",
       "3               NaN                   NaN       NaN               25.0   \n",
       "4               NaN                   NaN       NaN               31.0   \n",
       "\n",
       "   reviews_from_critics  \n",
       "0                   2.0  \n",
       "1                   7.0  \n",
       "2                   2.0  \n",
       "3                   3.0  \n",
       "4                  14.0  \n",
       "\n",
       "[5 rows x 22 columns]"
      ]
     },
     "execution_count": 9,
     "metadata": {},
     "output_type": "execute_result"
    }
   ],
   "source": [
    "movies.head()"
   ]
  },
  {
   "cell_type": "markdown",
   "id": "47448bbe-7a16-4841-aab1-0da5945df313",
   "metadata": {},
   "source": [
    "Then, the function \"info\" is employed to obtain a summary of the structural data. This allows us to understand the type of data we have, how much memory we are spending in our ram memory and the amount of nulls."
   ]
  },
  {
   "cell_type": "code",
   "execution_count": 10,
   "id": "5db5516a-c19b-417f-a6f0-d1b5a2f0409a",
   "metadata": {},
   "outputs": [
    {
     "name": "stdout",
     "output_type": "stream",
     "text": [
      "<class 'pandas.core.frame.DataFrame'>\n",
      "RangeIndex: 85855 entries, 0 to 85854\n",
      "Data columns (total 22 columns):\n",
      " #   Column                 Non-Null Count  Dtype  \n",
      "---  ------                 --------------  -----  \n",
      " 0   imdb_title_id          85855 non-null  object \n",
      " 1   title                  85855 non-null  object \n",
      " 2   original_title         85855 non-null  object \n",
      " 3   year                   85855 non-null  object \n",
      " 4   date_published         85855 non-null  object \n",
      " 5   genre                  85855 non-null  object \n",
      " 6   duration               85855 non-null  int64  \n",
      " 7   country                85791 non-null  object \n",
      " 8   language               85022 non-null  object \n",
      " 9   director               85768 non-null  object \n",
      " 10  writer                 84283 non-null  object \n",
      " 11  production_company     81400 non-null  object \n",
      " 12  actors                 85786 non-null  object \n",
      " 13  description            83740 non-null  object \n",
      " 14  avg_vote               85855 non-null  float64\n",
      " 15  votes                  85855 non-null  int64  \n",
      " 16  budget                 23710 non-null  object \n",
      " 17  usa_gross_income       15326 non-null  object \n",
      " 18  worlwide_gross_income  31016 non-null  object \n",
      " 19  metascore              13305 non-null  float64\n",
      " 20  reviews_from_users     78258 non-null  float64\n",
      " 21  reviews_from_critics   74058 non-null  float64\n",
      "dtypes: float64(4), int64(2), object(16)\n",
      "memory usage: 14.4+ MB\n"
     ]
    }
   ],
   "source": [
    "movies.info()"
   ]
  },
  {
   "cell_type": "markdown",
   "id": "d27c8c3c-24ab-49c3-9f74-afbd39e1bea5",
   "metadata": {},
   "source": [
    "From the above answer, it follows that there are a total of 85855 entries and 22 columns. Of these columns, 4 are of type float, 2 integer and 16 characters (object)."
   ]
  },
  {
   "cell_type": "markdown",
   "id": "2b62971e-f47a-4096-b19f-958f4bbab308",
   "metadata": {},
   "source": [
    "### Data cleansing\n",
    "* Converting variable \"year\" from object to float\n",
    "Since the variable \"year\" is an object, it must be converted to a float for further analysis."
   ]
  },
  {
   "cell_type": "code",
   "execution_count": 18,
   "id": "26e0668d-0424-4d2b-8294-bf94c384edc8",
   "metadata": {},
   "outputs": [
    {
     "data": {
      "text/plain": [
       "0    2017\n",
       "dtype: object"
      ]
     },
     "execution_count": 18,
     "metadata": {},
     "output_type": "execute_result"
    }
   ],
   "source": [
    "movies.year.mode()"
   ]
  },
  {
   "cell_type": "code",
   "execution_count": 46,
   "id": "7c727651-1dc9-410a-867a-f7b3c8754924",
   "metadata": {},
   "outputs": [
    {
     "name": "stdout",
     "output_type": "stream",
     "text": [
      "float64\n"
     ]
    }
   ],
   "source": [
    "movies[\"year\"]=pd.to_numeric(movies[\"year\"],errors='coerce') # pd.to_numeric converts argument to a numeric type.\n",
    "#errors='coerce' then invalid parsing will be set as NaN.\n",
    "print(movies.year.dtype)"
   ]
  },
  {
   "cell_type": "code",
   "execution_count": 21,
   "id": "69b09b33-98e6-4787-9267-1f97d65a2d02",
   "metadata": {
    "tags": []
   },
   "outputs": [
    {
     "name": "stdout",
     "output_type": "stream",
     "text": [
      "<class 'pandas.core.frame.DataFrame'>\n",
      "RangeIndex: 85855 entries, 0 to 85854\n",
      "Data columns (total 22 columns):\n",
      " #   Column                 Non-Null Count  Dtype  \n",
      "---  ------                 --------------  -----  \n",
      " 0   imdb_title_id          85855 non-null  object \n",
      " 1   title                  85855 non-null  object \n",
      " 2   original_title         85855 non-null  object \n",
      " 3   year                   85854 non-null  float64\n",
      " 4   date_published         85855 non-null  object \n",
      " 5   genre                  85855 non-null  object \n",
      " 6   duration               85855 non-null  int64  \n",
      " 7   country                85791 non-null  object \n",
      " 8   language               85022 non-null  object \n",
      " 9   director               85768 non-null  object \n",
      " 10  writer                 84283 non-null  object \n",
      " 11  production_company     81400 non-null  object \n",
      " 12  actors                 85786 non-null  object \n",
      " 13  description            83740 non-null  object \n",
      " 14  avg_vote               85855 non-null  float64\n",
      " 15  votes                  85855 non-null  int64  \n",
      " 16  budget                 23710 non-null  object \n",
      " 17  usa_gross_income       15326 non-null  object \n",
      " 18  worlwide_gross_income  31016 non-null  object \n",
      " 19  metascore              13305 non-null  float64\n",
      " 20  reviews_from_users     78258 non-null  float64\n",
      " 21  reviews_from_critics   74058 non-null  float64\n",
      "dtypes: float64(5), int64(2), object(15)\n",
      "memory usage: 14.4+ MB\n"
     ]
    }
   ],
   "source": [
    "movies.info()"
   ]
  },
  {
   "cell_type": "markdown",
   "id": "1b1a5673-4def-411c-8410-ac82993c19b3",
   "metadata": {},
   "source": [
    "Now, \"year\" is a float. Just to make sure that \"year\" is clean, we look for an attribute that previously existed in the dataset and would now be invalid."
   ]
  },
  {
   "cell_type": "code",
   "execution_count": 47,
   "id": "d591b823-58f0-45e6-aab7-788e531eedff",
   "metadata": {},
   "outputs": [
    {
     "data": {
      "text/html": [
       "<div>\n",
       "<style scoped>\n",
       "    .dataframe tbody tr th:only-of-type {\n",
       "        vertical-align: middle;\n",
       "    }\n",
       "\n",
       "    .dataframe tbody tr th {\n",
       "        vertical-align: top;\n",
       "    }\n",
       "\n",
       "    .dataframe thead th {\n",
       "        text-align: right;\n",
       "    }\n",
       "</style>\n",
       "<table border=\"1\" class=\"dataframe\">\n",
       "  <thead>\n",
       "    <tr style=\"text-align: right;\">\n",
       "      <th></th>\n",
       "      <th>imdb_title_id</th>\n",
       "      <th>title</th>\n",
       "      <th>original_title</th>\n",
       "      <th>year</th>\n",
       "      <th>date_published</th>\n",
       "      <th>genre</th>\n",
       "      <th>duration</th>\n",
       "      <th>country</th>\n",
       "      <th>language</th>\n",
       "      <th>director</th>\n",
       "      <th>...</th>\n",
       "      <th>votes</th>\n",
       "      <th>budget</th>\n",
       "      <th>usa_gross_income</th>\n",
       "      <th>worlwide_gross_income</th>\n",
       "      <th>metascore</th>\n",
       "      <th>reviews_from_users</th>\n",
       "      <th>reviews_from_critics</th>\n",
       "      <th>rango</th>\n",
       "      <th>budget_num</th>\n",
       "      <th>budget_curr</th>\n",
       "    </tr>\n",
       "  </thead>\n",
       "  <tbody>\n",
       "  </tbody>\n",
       "</table>\n",
       "<p>0 rows × 25 columns</p>\n",
       "</div>"
      ],
      "text/plain": [
       "Empty DataFrame\n",
       "Columns: [imdb_title_id, title, original_title, year, date_published, genre, duration, country, language, director, writer, production_company, actors, description, avg_vote, votes, budget, usa_gross_income, worlwide_gross_income, metascore, reviews_from_users, reviews_from_critics, rango, budget_num, budget_curr]\n",
       "Index: []\n",
       "\n",
       "[0 rows x 25 columns]"
      ]
     },
     "execution_count": 47,
     "metadata": {},
     "output_type": "execute_result"
    }
   ],
   "source": [
    "# \"TV Movie 2019\" is an attribute that existed on the year column. \n",
    "#The result of this should be 0 since it would be invalid parsing\n",
    "movies[movies.year == \"TV Movie 2019\"]"
   ]
  },
  {
   "cell_type": "markdown",
   "id": "d06fbed8-5a5f-47b8-9062-a5cb459d316a",
   "metadata": {},
   "source": [
    "* Bringing variables \"metascore\" and \"avg_vote\" to base 10 (NO SÉ SI SE DICE ASÍ)"
   ]
  },
  {
   "cell_type": "code",
   "execution_count": 61,
   "id": "29b59f15-33aa-44ca-98c4-3d1317aab1d7",
   "metadata": {},
   "outputs": [
    {
     "data": {
      "text/plain": [
       "100.0"
      ]
     },
     "execution_count": 61,
     "metadata": {},
     "output_type": "execute_result"
    }
   ],
   "source": [
    "movies.metascore.max()"
   ]
  },
  {
   "cell_type": "code",
   "execution_count": 62,
   "id": "b572f9b5-5f61-4b3f-9e99-2d1527d77514",
   "metadata": {},
   "outputs": [
    {
     "data": {
      "text/plain": [
       "9.9"
      ]
     },
     "execution_count": 62,
     "metadata": {},
     "output_type": "execute_result"
    }
   ],
   "source": [
    "movies.avg_vote.max()"
   ]
  },
  {
   "cell_type": "markdown",
   "id": "1f49d7e8-5365-46d2-b6dc-52f65228f1e5",
   "metadata": {},
   "source": [
    "In order to compare these variables, they both have to be under the same base. Therefore, \"metascore\" will be divided by 10."
   ]
  },
  {
   "cell_type": "code",
   "execution_count": 65,
   "id": "ec441655-0d2d-4ebf-8124-733438a41337",
   "metadata": {},
   "outputs": [],
   "source": [
    "movies.metascore = movies.metascore/10"
   ]
  },
  {
   "cell_type": "code",
   "execution_count": 66,
   "id": "fb6b61c0-183d-4719-b688-0e0d14f832ee",
   "metadata": {},
   "outputs": [
    {
     "data": {
      "text/plain": [
       "10.0"
      ]
     },
     "execution_count": 66,
     "metadata": {},
     "output_type": "execute_result"
    }
   ],
   "source": [
    "movies.metascore.max()"
   ]
  },
  {
   "cell_type": "markdown",
   "id": "0c05907b-98ee-4c54-8635-14f41f609733",
   "metadata": {},
   "source": [
    "We've overwritten metascore with the new metascore, which is divided by 10."
   ]
  },
  {
   "cell_type": "markdown",
   "id": "0b163430-9a0a-417e-b2cc-0d0d182c9e28",
   "metadata": {},
   "source": [
    "* Cleaning the variable \"budget\""
   ]
  },
  {
   "cell_type": "code",
   "execution_count": 89,
   "id": "2f25aabf-3a88-4c91-aaa0-15f146433043",
   "metadata": {},
   "outputs": [
    {
     "data": {
      "text/plain": [
       "dtype('O')"
      ]
     },
     "execution_count": 89,
     "metadata": {},
     "output_type": "execute_result"
    }
   ],
   "source": [
    "movies.budget.dtype"
   ]
  },
  {
   "cell_type": "markdown",
   "id": "c8920158-b42c-426d-a6df-1ed65feaab73",
   "metadata": {
    "tags": []
   },
   "source": [
    "\"Budget\" is an object and not a float."
   ]
  },
  {
   "cell_type": "code",
   "execution_count": 86,
   "id": "1bb2fbb6-0192-4c88-aa9a-f51e52696755",
   "metadata": {},
   "outputs": [
    {
     "data": {
      "text/plain": [
       "0           NaN\n",
       "1        $ 2250\n",
       "2           NaN\n",
       "3       $ 45000\n",
       "4           NaN\n",
       "5           NaN\n",
       "6           NaN\n",
       "7     ITL 45000\n",
       "8    ROL 400000\n",
       "9       $ 30000\n",
       "Name: budget, dtype: object"
      ]
     },
     "execution_count": 86,
     "metadata": {},
     "output_type": "execute_result"
    }
   ],
   "source": [
    "movies.budget.head(10)"
   ]
  },
  {
   "cell_type": "markdown",
   "id": "38609b03-5cb0-47e5-8b85-203710c119a9",
   "metadata": {},
   "source": [
    "The reason that \"budget\" is an object is that it has currencies written next to the numeric values. We want to extract the number without losing the currency so that we can later get all the budgets into only one type of currency ($)."
   ]
  },
  {
   "cell_type": "code",
   "execution_count": 88,
   "id": "d1de84a9-a153-4c3e-873a-d8a60efbc20f",
   "metadata": {},
   "outputs": [],
   "source": [
    "# The following is a cleaning function that is applied to all columns\n",
    "# \"Value\" is going to be a string\n",
    "def clean_budget(value):\n",
    "    if not value: #if value doesn´t exist, it returns nothing\n",
    "        return None\n",
    "    try:\n",
    "        lista = value.split(\" \") # divides valor that entered using a space as separator\n",
    "        return int(lista[1]) # returns the second component, that is the number. With int we make sure that it returns a number\n",
    "    except:\n",
    "        return value \n",
    "movies[\"budget_num\"]=movies.budget.apply(clean_budget)\n"
   ]
  },
  {
   "cell_type": "code",
   "execution_count": 34,
   "id": "1e4ed62b-a2a0-452e-8797-1c86745986d5",
   "metadata": {},
   "outputs": [
    {
     "data": {
      "text/plain": [
       "dtype('float64')"
      ]
     },
     "execution_count": 34,
     "metadata": {},
     "output_type": "execute_result"
    }
   ],
   "source": [
    "movies.budget_num.dtype"
   ]
  },
  {
   "cell_type": "code",
   "execution_count": 90,
   "id": "c183d625-3ecf-4246-9ee4-96fe395ee780",
   "metadata": {},
   "outputs": [],
   "source": [
    "def extract_curr(value):\n",
    "    if not value: #if value doesn´t exist, it returns nothing\n",
    "        return None\n",
    "    try:\n",
    "        lista = value.split(\" \") #it splits the value that entered considering a space\n",
    "        return lista[0] #returns the second component, which is the number. With int we make sure that it returns a number\n",
    "    except:\n",
    "        return value \n",
    "movies[\"budget_curr\"]=movies.budget.apply(extract_curr)"
   ]
  },
  {
   "cell_type": "code",
   "execution_count": 91,
   "id": "c14884f0-440e-45de-a2e1-19d90c41e2ce",
   "metadata": {},
   "outputs": [
    {
     "data": {
      "text/plain": [
       "0    NaN\n",
       "1      $\n",
       "2    NaN\n",
       "3      $\n",
       "4    NaN\n",
       "5    NaN\n",
       "6    NaN\n",
       "7    ITL\n",
       "8    ROL\n",
       "9      $\n",
       "Name: budget_curr, dtype: object"
      ]
     },
     "execution_count": 91,
     "metadata": {},
     "output_type": "execute_result"
    }
   ],
   "source": [
    "movies.budget_curr.head(10)"
   ]
  },
  {
   "cell_type": "markdown",
   "id": "f6e046e1-8f29-46b2-84d3-edcc24a469a9",
   "metadata": {},
   "source": [
    "Now we have a column with the currency for each budget. Next, we have to find out what are the currencies within the dataset."
   ]
  },
  {
   "cell_type": "code",
   "execution_count": 92,
   "id": "d1740b5b-1b65-41ab-8dfa-d6b7187c6912",
   "metadata": {},
   "outputs": [
    {
     "data": {
      "text/plain": [
       "array([nan, '$', 'ITL', 'ROL', 'SEK', 'FRF', 'NOK', 'GBP', 'DEM', 'PTE',\n",
       "       'FIM', 'CAD', 'INR', 'CHF', 'ESP', 'JPY', 'DKK', 'NLG', 'PLN',\n",
       "       'RUR', 'AUD', 'KRW', 'BEF', 'XAU', 'HKD', 'NZD', 'CNY', 'EUR',\n",
       "       'PYG', 'ISK', 'IEP', 'TRL', 'HRK', 'SIT', 'PHP', 'HUF', 'DOP',\n",
       "       'JMD', 'CZK', 'SGD', 'BRL', 'BDT', 'ATS', 'BND', 'EGP', 'THB',\n",
       "       'GRD', 'ZAR', 'NPR', 'IDR', 'PKR', 'MXN', 'BGL', 'EEK', 'YUM',\n",
       "       'MYR', 'IRR', 'CLP', 'SKK', 'LTL', 'TWD', 'MTL', 'LVL', 'COP',\n",
       "       'ARS', 'UAH', 'RON', 'ALL', 'NGN', 'ILS', 'VEB', 'VND', 'TTD',\n",
       "       'JOD', 'LKR', 'GEL', 'MNT', 'AZM', 'AMD', 'AED'], dtype=object)"
      ]
     },
     "execution_count": 92,
     "metadata": {},
     "output_type": "execute_result"
    }
   ],
   "source": [
    "#Currencies within the dataset\n",
    "movies.budget_curr.unique()"
   ]
  },
  {
   "cell_type": "code",
   "execution_count": 38,
   "id": "ccc97ede-7166-4b34-ab56-ab1511001e12",
   "metadata": {},
   "outputs": [
    {
     "data": {
      "text/plain": [
       "$      16602\n",
       "EUR     2422\n",
       "INR      906\n",
       "GBP      743\n",
       "CAD      632\n",
       "AUD      258\n",
       "SEK      154\n",
       "NOK      140\n",
       "FRF      133\n",
       "DEM      126\n",
       "BRL      114\n",
       "FIM      113\n",
       "DKK      110\n",
       "RUR       91\n",
       "CNY       69\n",
       "HUF       68\n",
       "PLN       68\n",
       "EGP       68\n",
       "IRR       64\n",
       "TRL       61\n",
       "Name: budget_curr, dtype: int64"
      ]
     },
     "execution_count": 38,
     "metadata": {},
     "output_type": "execute_result"
    }
   ],
   "source": [
    "movies.budget_curr.value_counts().head(20)"
   ]
  },
  {
   "cell_type": "code",
   "execution_count": 39,
   "id": "7984ecdd-ed07-44c6-b2e3-3893abbb3a75",
   "metadata": {},
   "outputs": [],
   "source": [
    "#QUEDARME CON 5\n",
    "# Hacer tabla de traducción, limpieza con un transform"
   ]
  },
  {
   "cell_type": "markdown",
   "id": "d44a1f27-f279-47b9-9150-e68c00802ff1",
   "metadata": {},
   "source": [
    "## Semantic analysis\n",
    "\n",
    "The semantic analysis is structured into three sections:\n",
    "#### Part 1\n",
    "The following exploratory questions are raised:\n",
    "\n",
    "1. What are the most common genres within the dataset? \n",
    "2. How are the scores distributed throughout the dataset? (Both users' and critics' scores)\n",
    "3. In which year are the largest number of films published?\n",
    "4. What country are most of the films from?\n",
    "\n",
    "#### Part 2\n",
    "Next, the following hypotheses are proposed to be validated or rejected:\n",
    "* **_Hypothesis 1_** : Users' ratings will be similar to those of the critics (average vote vs metascore).\n",
    "* **_Hypothesis 2_** : The highest scoring films will be those with the largest budgets.\n",
    "\n",
    "#### Part 3\n",
    "Subsequently, the correlation between the films with the highest average vote and the rest of the variables is analysed to answer the question:\n",
    "**What makes a film successful?**"
   ]
  },
  {
   "cell_type": "markdown",
   "id": "0da73ea5-d437-498b-ba57-c02127549df8",
   "metadata": {},
   "source": [
    "### Part 1\n",
    "**1. What are the most ?**"
   ]
  },
  {
   "cell_type": "code",
   "execution_count": 11,
   "id": "e849f70d-b89d-412c-bced-73bd1cf2c6ff",
   "metadata": {},
   "outputs": [
    {
     "data": {
      "text/plain": [
       "Drama                          12543\n",
       "Comedy                          7693\n",
       "Comedy, Drama                   4039\n",
       "Drama, Romance                  3455\n",
       "Comedy, Romance                 2508\n",
       "                               ...  \n",
       "Family, Fantasy, Adventure         1\n",
       "Fantasy, Mystery, Action           1\n",
       "Sci-Fi, Animation, Action          1\n",
       "Animation, Biography, Crime        1\n",
       "Music, War, Western                1\n",
       "Name: genre, Length: 1257, dtype: int64"
      ]
     },
     "execution_count": 11,
     "metadata": {},
     "output_type": "execute_result"
    }
   ],
   "source": [
    "movies.genre.value_counts()"
   ]
  },
  {
   "cell_type": "markdown",
   "id": "a7082dcf-38a0-4d51-99f0-efd2ed185945",
   "metadata": {},
   "source": [
    "The largest number of movies within the dataset are from the drama category, followed by comedy and a combination of both genres. Now, we want to visualize this information in a circular diagram considering the top 5 genres and visualizing within the diagram the percentages corresponding to each genre."
   ]
  },
  {
   "cell_type": "code",
   "execution_count": 56,
   "id": "20812bfc-3cdd-4b24-ab87-fb8b0576d52e",
   "metadata": {},
   "outputs": [
    {
     "data": {
      "image/png": "[encoded data removed]",
      "text/plain": [
       "<Figure size 576x396 with 1 Axes>"
      ]
     },
     "metadata": {},
     "output_type": "display_data"
    }
   ],
   "source": [
    "_=movies.genre.value_counts().head(5).plot.pie(title=\"Movies published by genre\", autopct='%1.1f%%')"
   ]
  },
  {
   "cell_type": "markdown",
   "id": "e8818879-82cd-49b3-b2cd-75cda3e3270b",
   "metadata": {},
   "source": [
    "**2. How are the notes distributed throughout the dataset?**\n",
    "* Users' notes"
   ]
  },
  {
   "cell_type": "code",
   "execution_count": 13,
   "id": "d85eaccb-0080-4e70-b5dc-955e2bc4dc2c",
   "metadata": {},
   "outputs": [
    {
     "data": {
      "image/png": "[encoded data removed]",
      "text/plain": [
       "<Figure size 576x396 with 1 Axes>"
      ]
     },
     "metadata": {},
     "output_type": "display_data"
    }
   ],
   "source": [
    "_=movies.avg_vote.hist()"
   ]
  },
  {
   "cell_type": "code",
   "execution_count": 14,
   "id": "e1bf4ce6-8ec4-4ddf-908a-2a6f6ad37dcf",
   "metadata": {},
   "outputs": [
    {
     "data": {
      "text/plain": [
       "5.898655873274613"
      ]
     },
     "execution_count": 14,
     "metadata": {},
     "output_type": "execute_result"
    }
   ],
   "source": [
    "movies.avg_vote.mean()"
   ]
  },
  {
   "cell_type": "code",
   "execution_count": 15,
   "id": "3745a268-ef91-410b-b8c8-1e6a536799ec",
   "metadata": {},
   "outputs": [
    {
     "data": {
      "text/plain": [
       "0    6.4\n",
       "dtype: float64"
      ]
     },
     "execution_count": 15,
     "metadata": {},
     "output_type": "execute_result"
    }
   ],
   "source": [
    "movies.avg_vote.mode()"
   ]
  },
  {
   "cell_type": "markdown",
   "id": "f9f5b397-d6b4-41d5-9077-98b34053491a",
   "metadata": {},
   "source": [
    "The most repeated users' score throughout the dataset is 6.4. The average score is 5.89, however from the histogram it can be seen that most of the films have scores between 6 and 8 so the mean value is punished by low scores."
   ]
  },
  {
   "cell_type": "code",
   "execution_count": 16,
   "id": "739ac5ca-7386-4de8-9d85-b5b840b20d1d",
   "metadata": {},
   "outputs": [
    {
     "data": {
      "text/plain": [
       "9.9"
      ]
     },
     "execution_count": 16,
     "metadata": {},
     "output_type": "execute_result"
    }
   ],
   "source": [
    "movies.avg_vote.max()"
   ]
  },
  {
   "cell_type": "markdown",
   "id": "1888dfa9-0fe6-4c2c-8c20-a8df85558416",
   "metadata": {},
   "source": [
    "The highest users' score of a film is 9.9."
   ]
  },
  {
   "cell_type": "markdown",
   "id": "f4256bec-d85c-49d2-8cfc-6f7809f9fa73",
   "metadata": {},
   "source": [
    "* Critics' score"
   ]
  },
  {
   "cell_type": "markdown",
   "id": "c4bdf0c0-1b04-4866-a5b1-81cea5518637",
   "metadata": {},
   "source": [
    "**3. In which year are the largest number of films published?**"
   ]
  },
  {
   "cell_type": "code",
   "execution_count": 22,
   "id": "a6d67915-b3f2-42d0-9cc4-02ee07e63241",
   "metadata": {},
   "outputs": [
    {
     "data": {
      "text/plain": [
       "1894.0"
      ]
     },
     "execution_count": 22,
     "metadata": {},
     "output_type": "execute_result"
    }
   ],
   "source": [
    "movies.year.min()"
   ]
  },
  {
   "cell_type": "code",
   "execution_count": 49,
   "id": "1810fe25-697f-4a22-b977-f6dffec63097",
   "metadata": {},
   "outputs": [
    {
     "data": {
      "text/plain": [
       "2020.0"
      ]
     },
     "execution_count": 49,
     "metadata": {},
     "output_type": "execute_result"
    }
   ],
   "source": [
    "movies.year.max()"
   ]
  },
  {
   "cell_type": "code",
   "execution_count": 55,
   "id": "2faa5e90-2ae4-4aeb-9015-b23482a74f25",
   "metadata": {},
   "outputs": [
    {
     "data": {
      "image/png": "[encoded data removed]",
      "text/plain": [
       "<Figure size 576x396 with 1 Axes>"
      ]
     },
     "metadata": {},
     "output_type": "display_data"
    }
   ],
   "source": [
    "_=movies.year.value_counts().head(15).plot.bar(title=\"Amount of films published by year\")"
   ]
  },
  {
   "cell_type": "code",
   "execution_count": 58,
   "id": "c783da01-7bcc-4a27-b977-75da1cdd4853",
   "metadata": {},
   "outputs": [
    {
     "data": {
      "text/plain": [
       "2017.0    3329\n",
       "2018.0    3257\n",
       "2016.0    3138\n",
       "2015.0    2977\n",
       "2014.0    2942\n",
       "          ... \n",
       "1913.0      13\n",
       "1912.0       5\n",
       "1911.0       5\n",
       "1894.0       1\n",
       "1906.0       1\n",
       "Name: year, Length: 112, dtype: int64"
      ]
     },
     "execution_count": 58,
     "metadata": {},
     "output_type": "execute_result"
    }
   ],
   "source": [
    "movies.year.value_counts()"
   ]
  },
  {
   "cell_type": "markdown",
   "id": "889a7014-1046-4bd1-902c-dbd637efb0a9",
   "metadata": {},
   "source": [
    "2017 is the year with the biggest amount of films published (a total of 3329)."
   ]
  },
  {
   "cell_type": "markdown",
   "id": "866a2369-95ae-4894-b636-9d9b23c29d14",
   "metadata": {},
   "source": [
    "**4. What country are most of the films from?**"
   ]
  },
  {
   "cell_type": "code",
   "execution_count": 25,
   "id": "dd8e9416-79a9-49cd-8087-6b5201d98fcb",
   "metadata": {},
   "outputs": [
    {
     "data": {
      "image/png": "[encoded data removed]",
      "text/plain": [
       "<Figure size 936x432 with 1 Axes>"
      ]
     },
     "metadata": {},
     "output_type": "display_data"
    }
   ],
   "source": [
    "_=movies.country.value_counts().head(15).plot.barh(title=\"Number of films per country\",figsize=(13,6))"
   ]
  },
  {
   "cell_type": "code",
   "execution_count": 26,
   "id": "641a5dfb-6ad6-4306-80bd-9b040556d460",
   "metadata": {},
   "outputs": [
    {
     "data": {
      "text/plain": [
       "USA             28511\n",
       "India            6065\n",
       "UK               4111\n",
       "Japan            3077\n",
       "France           3055\n",
       "Italy            2444\n",
       "Canada           1802\n",
       "Germany          1396\n",
       "Turkey           1351\n",
       "Hong Kong        1239\n",
       "Spain            1225\n",
       "South Korea      1103\n",
       "Russia            802\n",
       "Australia         785\n",
       "Soviet Union      766\n",
       "Name: country, dtype: int64"
      ]
     },
     "execution_count": 26,
     "metadata": {},
     "output_type": "execute_result"
    }
   ],
   "source": [
    "movies.country.value_counts().head(15)"
   ]
  },
  {
   "cell_type": "markdown",
   "id": "84e54ba0-e625-4137-8028-51a61c5543a4",
   "metadata": {},
   "source": [
    "Most of the films are produced by USA, followed by India and UK."
   ]
  },
  {
   "cell_type": "markdown",
   "id": "4055dfe0-2695-4c91-a9b6-17cc29c2a4af",
   "metadata": {},
   "source": [
    "### Part 2\n",
    "**_Hipothesis 1_** : Users' ratings will be similar to those of the critics (average vote vs metascore)."
   ]
  },
  {
   "cell_type": "markdown",
   "id": "efad0bed-35d1-4fb9-b852-0ad135b5e1fc",
   "metadata": {},
   "source": [
    "First, we analyse the amount of reviews. It is expected that there will be more reviews from users than from critics."
   ]
  },
  {
   "cell_type": "code",
   "execution_count": 27,
   "id": "74805bb0-e241-4e17-a515-541ef29e116a",
   "metadata": {},
   "outputs": [
    {
     "data": {
      "text/plain": [
       "10472.0"
      ]
     },
     "execution_count": 27,
     "metadata": {},
     "output_type": "execute_result"
    }
   ],
   "source": [
    "movies.reviews_from_users.max()"
   ]
  },
  {
   "cell_type": "code",
   "execution_count": 28,
   "id": "b6cd9337-745b-424f-abf0-064d16f9e7b6",
   "metadata": {},
   "outputs": [
    {
     "data": {
      "text/plain": [
       "999.0"
      ]
     },
     "execution_count": 28,
     "metadata": {},
     "output_type": "execute_result"
    }
   ],
   "source": [
    "movies.reviews_from_critics.max()"
   ]
  },
  {
   "cell_type": "code",
   "execution_count": 30,
   "id": "1489462b-cded-492c-b10b-3096c416ff1d",
   "metadata": {},
   "outputs": [
    {
     "data": {
      "image/png": "[encoded data removed]",
      "text/plain": [
       "<Figure size 576x396 with 1 Axes>"
      ]
     },
     "metadata": {},
     "output_type": "display_data"
    }
   ],
   "source": [
    "_=movies.plot.scatter(x=\"reviews_from_users\",y=\"reviews_from_critics\",xlim=(0,3000))"
   ]
  },
  {
   "cell_type": "markdown",
   "id": "ca4cb6ce-0d19-40f0-b91b-dcc27b6a4133",
   "metadata": {},
   "source": [
    "There are indeed, 9473 more reviews from users than from critics. However, according to the scatter plot, As more critics rate the film, more users rate the film. This deduction makes sense, since a well graded movie by critics generates attention from users and viceversa."
   ]
  },
  {
   "cell_type": "code",
   "execution_count": 67,
   "id": "36f10a95-dd49-4301-899b-40a0f1e6b49b",
   "metadata": {},
   "outputs": [
    {
     "data": {
      "image/png": "[encoded data removed]",
      "text/plain": [
       "<Figure size 576x396 with 1 Axes>"
      ]
     },
     "metadata": {},
     "output_type": "display_data"
    }
   ],
   "source": [
    "_=movies.plot.scatter(x=\"avg_vote\",y=\"metascore\")"
   ]
  },
  {
   "cell_type": "markdown",
   "id": "1ca32dbc-3df3-4597-84ac-4bfe447900fc",
   "metadata": {},
   "source": [
    "There is a clear positive correlation between the users' score (avg_vote) and the critics' score (metascore). This result means that the users and the critics will tend to agree on the rating of the movies, the higher the users' rating, the higher we can expect the critics' rating to be. \n",
    "**The first hypothesis is therefore validated.**"
   ]
  },
  {
   "cell_type": "markdown",
   "id": "8dcda954-41a8-49a0-9bc7-415e56abc09c",
   "metadata": {},
   "source": [
    "**_Hipothesis 2_** : The highest scoring films will be those with the largest budgets."
   ]
  },
  {
   "cell_type": "code",
   "execution_count": 70,
   "id": "dbd71712-3c24-4578-ad5a-6aae69e1b053",
   "metadata": {},
   "outputs": [
    {
     "name": "stdout",
     "output_type": "stream",
     "text": [
      "<class 'pandas.core.frame.DataFrame'>\n",
      "RangeIndex: 85855 entries, 0 to 85854\n",
      "Data columns (total 25 columns):\n",
      " #   Column                 Non-Null Count  Dtype  \n",
      "---  ------                 --------------  -----  \n",
      " 0   imdb_title_id          85855 non-null  object \n",
      " 1   title                  85855 non-null  object \n",
      " 2   original_title         85855 non-null  object \n",
      " 3   year                   85854 non-null  float64\n",
      " 4   date_published         85855 non-null  object \n",
      " 5   genre                  85855 non-null  object \n",
      " 6   duration               85855 non-null  int64  \n",
      " 7   country                85791 non-null  object \n",
      " 8   language               85022 non-null  object \n",
      " 9   director               85768 non-null  object \n",
      " 10  writer                 84283 non-null  object \n",
      " 11  production_company     81400 non-null  object \n",
      " 12  actors                 85786 non-null  object \n",
      " 13  description            83740 non-null  object \n",
      " 14  avg_vote               85855 non-null  float64\n",
      " 15  votes                  85855 non-null  int64  \n",
      " 16  budget                 23710 non-null  object \n",
      " 17  usa_gross_income       15326 non-null  object \n",
      " 18  worlwide_gross_income  31016 non-null  object \n",
      " 19  metascore              13305 non-null  float64\n",
      " 20  reviews_from_users     78258 non-null  float64\n",
      " 21  reviews_from_critics   74058 non-null  float64\n",
      " 22  rango                  69968 non-null  float64\n",
      " 23  budget_num             23710 non-null  float64\n",
      " 24  budget_curr            23710 non-null  object \n",
      "dtypes: float64(7), int64(2), object(16)\n",
      "memory usage: 16.4+ MB\n"
     ]
    }
   ],
   "source": [
    "movies.info()"
   ]
  },
  {
   "cell_type": "markdown",
   "id": "ab80806c-30be-46dc-9511-55bfee99ee68",
   "metadata": {},
   "source": [
    "Due to the fact that hypothesis 1 was validated, in order to consider a movie as successful, it doesn't matter if we chose the \"metascore\" (critics' score) or the \"average score\" (users' score). Since there are 85855 non-null observations for \"average score\" where as there are only 13305 non-null observations for \"metascore\", it is preferred to analyze the \"average vote\" in order to determine the success of a film."
   ]
  },
  {
   "cell_type": "code",
   "execution_count": 40,
   "id": "c0832d0d-0713-40a8-a40b-b9a4047bb88c",
   "metadata": {},
   "outputs": [
    {
     "name": "stdout",
     "output_type": "stream",
     "text": [
      "<class 'pandas.core.frame.DataFrame'>\n",
      "RangeIndex: 85855 entries, 0 to 85854\n",
      "Data columns (total 25 columns):\n",
      " #   Column                 Non-Null Count  Dtype  \n",
      "---  ------                 --------------  -----  \n",
      " 0   imdb_title_id          85855 non-null  object \n",
      " 1   title                  85855 non-null  object \n",
      " 2   original_title         85855 non-null  object \n",
      " 3   year                   85854 non-null  float64\n",
      " 4   date_published         85855 non-null  object \n",
      " 5   genre                  85855 non-null  object \n",
      " 6   duration               85855 non-null  int64  \n",
      " 7   country                85791 non-null  object \n",
      " 8   language               85022 non-null  object \n",
      " 9   director               85768 non-null  object \n",
      " 10  writer                 84283 non-null  object \n",
      " 11  production_company     81400 non-null  object \n",
      " 12  actors                 85786 non-null  object \n",
      " 13  description            83740 non-null  object \n",
      " 14  avg_vote               85855 non-null  float64\n",
      " 15  votes                  85855 non-null  int64  \n",
      " 16  budget                 23710 non-null  object \n",
      " 17  usa_gross_income       15326 non-null  object \n",
      " 18  worlwide_gross_income  31016 non-null  object \n",
      " 19  metascore              13305 non-null  float64\n",
      " 20  reviews_from_users     78258 non-null  float64\n",
      " 21  reviews_from_critics   74058 non-null  float64\n",
      " 22  rango                  69968 non-null  float64\n",
      " 23  budget_num             23710 non-null  float64\n",
      " 24  budget_curr            23710 non-null  object \n",
      "dtypes: float64(7), int64(2), object(16)\n",
      "memory usage: 16.4+ MB\n"
     ]
    }
   ],
   "source": [
    "movies.info()"
   ]
  },
  {
   "cell_type": "markdown",
   "id": "69d71e8f-508e-4480-9c9a-c562ac16115c",
   "metadata": {},
   "source": [
    "### Parte 3\n",
    "**¿Qué hace que una película sea exitosa?**"
   ]
  },
  {
   "cell_type": "code",
   "execution_count": 41,
   "id": "a4bfc5e1-4c84-4042-8cd2-1ead57c10560",
   "metadata": {},
   "outputs": [
    {
     "data": {
      "text/html": [
       "<div>\n",
       "<style scoped>\n",
       "    .dataframe tbody tr th:only-of-type {\n",
       "        vertical-align: middle;\n",
       "    }\n",
       "\n",
       "    .dataframe tbody tr th {\n",
       "        vertical-align: top;\n",
       "    }\n",
       "\n",
       "    .dataframe thead th {\n",
       "        text-align: right;\n",
       "    }\n",
       "</style>\n",
       "<table border=\"1\" class=\"dataframe\">\n",
       "  <thead>\n",
       "    <tr style=\"text-align: right;\">\n",
       "      <th></th>\n",
       "      <th>year</th>\n",
       "      <th>duration</th>\n",
       "      <th>avg_vote</th>\n",
       "      <th>votes</th>\n",
       "      <th>metascore</th>\n",
       "      <th>reviews_from_users</th>\n",
       "      <th>reviews_from_critics</th>\n",
       "      <th>rango</th>\n",
       "      <th>budget_num</th>\n",
       "    </tr>\n",
       "  </thead>\n",
       "  <tbody>\n",
       "    <tr>\n",
       "      <th>year</th>\n",
       "      <td>1.000000</td>\n",
       "      <td>0.172807</td>\n",
       "      <td>-0.217573</td>\n",
       "      <td>0.058556</td>\n",
       "      <td>-0.183209</td>\n",
       "      <td>0.070618</td>\n",
       "      <td>0.137999</td>\n",
       "      <td>0.032347</td>\n",
       "      <td>0.021414</td>\n",
       "    </tr>\n",
       "    <tr>\n",
       "      <th>duration</th>\n",
       "      <td>0.172807</td>\n",
       "      <td>1.000000</td>\n",
       "      <td>0.242432</td>\n",
       "      <td>0.125618</td>\n",
       "      <td>0.210531</td>\n",
       "      <td>0.130836</td>\n",
       "      <td>0.135465</td>\n",
       "      <td>0.126847</td>\n",
       "      <td>0.017947</td>\n",
       "    </tr>\n",
       "    <tr>\n",
       "      <th>avg_vote</th>\n",
       "      <td>-0.217573</td>\n",
       "      <td>0.242432</td>\n",
       "      <td>1.000000</td>\n",
       "      <td>0.166972</td>\n",
       "      <td>0.691338</td>\n",
       "      <td>0.138185</td>\n",
       "      <td>0.200526</td>\n",
       "      <td>0.102489</td>\n",
       "      <td>-0.007101</td>\n",
       "    </tr>\n",
       "    <tr>\n",
       "      <th>votes</th>\n",
       "      <td>0.058556</td>\n",
       "      <td>0.125618</td>\n",
       "      <td>0.166972</td>\n",
       "      <td>1.000000</td>\n",
       "      <td>0.194730</td>\n",
       "      <td>0.766237</td>\n",
       "      <td>0.671635</td>\n",
       "      <td>0.672523</td>\n",
       "      <td>-0.003280</td>\n",
       "    </tr>\n",
       "    <tr>\n",
       "      <th>metascore</th>\n",
       "      <td>-0.183209</td>\n",
       "      <td>0.210531</td>\n",
       "      <td>0.691338</td>\n",
       "      <td>0.194730</td>\n",
       "      <td>1.000000</td>\n",
       "      <td>0.126131</td>\n",
       "      <td>0.236107</td>\n",
       "      <td>0.071514</td>\n",
       "      <td>0.010904</td>\n",
       "    </tr>\n",
       "    <tr>\n",
       "      <th>reviews_from_users</th>\n",
       "      <td>0.070618</td>\n",
       "      <td>0.130836</td>\n",
       "      <td>0.138185</td>\n",
       "      <td>0.766237</td>\n",
       "      <td>0.126131</td>\n",
       "      <td>1.000000</td>\n",
       "      <td>0.671634</td>\n",
       "      <td>0.958113</td>\n",
       "      <td>0.000609</td>\n",
       "    </tr>\n",
       "    <tr>\n",
       "      <th>reviews_from_critics</th>\n",
       "      <td>0.137999</td>\n",
       "      <td>0.135465</td>\n",
       "      <td>0.200526</td>\n",
       "      <td>0.671635</td>\n",
       "      <td>0.236107</td>\n",
       "      <td>0.671634</td>\n",
       "      <td>1.000000</td>\n",
       "      <td>0.431318</td>\n",
       "      <td>-0.007690</td>\n",
       "    </tr>\n",
       "    <tr>\n",
       "      <th>rango</th>\n",
       "      <td>0.032347</td>\n",
       "      <td>0.126847</td>\n",
       "      <td>0.102489</td>\n",
       "      <td>0.672523</td>\n",
       "      <td>0.071514</td>\n",
       "      <td>0.958113</td>\n",
       "      <td>0.431318</td>\n",
       "      <td>1.000000</td>\n",
       "      <td>0.001652</td>\n",
       "    </tr>\n",
       "    <tr>\n",
       "      <th>budget_num</th>\n",
       "      <td>0.021414</td>\n",
       "      <td>0.017947</td>\n",
       "      <td>-0.007101</td>\n",
       "      <td>-0.003280</td>\n",
       "      <td>0.010904</td>\n",
       "      <td>0.000609</td>\n",
       "      <td>-0.007690</td>\n",
       "      <td>0.001652</td>\n",
       "      <td>1.000000</td>\n",
       "    </tr>\n",
       "  </tbody>\n",
       "</table>\n",
       "</div>"
      ],
      "text/plain": [
       "                          year  duration  avg_vote     votes  metascore  \\\n",
       "year                  1.000000  0.172807 -0.217573  0.058556  -0.183209   \n",
       "duration              0.172807  1.000000  0.242432  0.125618   0.210531   \n",
       "avg_vote             -0.217573  0.242432  1.000000  0.166972   0.691338   \n",
       "votes                 0.058556  0.125618  0.166972  1.000000   0.194730   \n",
       "metascore            -0.183209  0.210531  0.691338  0.194730   1.000000   \n",
       "reviews_from_users    0.070618  0.130836  0.138185  0.766237   0.126131   \n",
       "reviews_from_critics  0.137999  0.135465  0.200526  0.671635   0.236107   \n",
       "rango                 0.032347  0.126847  0.102489  0.672523   0.071514   \n",
       "budget_num            0.021414  0.017947 -0.007101 -0.003280   0.010904   \n",
       "\n",
       "                      reviews_from_users  reviews_from_critics     rango  \\\n",
       "year                            0.070618              0.137999  0.032347   \n",
       "duration                        0.130836              0.135465  0.126847   \n",
       "avg_vote                        0.138185              0.200526  0.102489   \n",
       "votes                           0.766237              0.671635  0.672523   \n",
       "metascore                       0.126131              0.236107  0.071514   \n",
       "reviews_from_users              1.000000              0.671634  0.958113   \n",
       "reviews_from_critics            0.671634              1.000000  0.431318   \n",
       "rango                           0.958113              0.431318  1.000000   \n",
       "budget_num                      0.000609             -0.007690  0.001652   \n",
       "\n",
       "                      budget_num  \n",
       "year                    0.021414  \n",
       "duration                0.017947  \n",
       "avg_vote               -0.007101  \n",
       "votes                  -0.003280  \n",
       "metascore               0.010904  \n",
       "reviews_from_users      0.000609  \n",
       "reviews_from_critics   -0.007690  \n",
       "rango                   0.001652  \n",
       "budget_num              1.000000  "
      ]
     },
     "execution_count": 41,
     "metadata": {},
     "output_type": "execute_result"
    }
   ],
   "source": [
    "movies.corr()"
   ]
  },
  {
   "cell_type": "markdown",
   "id": "9724b01f-c46c-4f91-bc2b-d20d32900175",
   "metadata": {},
   "source": [
    "La mayor correlación es entre la variable votes y reviews_from_users, así como votes y reviews_from_critics. Sin embargo, esto se debe a que son variables dependientes."
   ]
  },
  {
   "cell_type": "code",
   "execution_count": 42,
   "id": "ed733d3c-28a6-4d31-8f69-4142c67eabe2",
   "metadata": {},
   "outputs": [
    {
     "data": {
      "text/html": [
       "<div>\n",
       "<style scoped>\n",
       "    .dataframe tbody tr th:only-of-type {\n",
       "        vertical-align: middle;\n",
       "    }\n",
       "\n",
       "    .dataframe tbody tr th {\n",
       "        vertical-align: top;\n",
       "    }\n",
       "\n",
       "    .dataframe thead th {\n",
       "        text-align: right;\n",
       "    }\n",
       "</style>\n",
       "<table border=\"1\" class=\"dataframe\">\n",
       "  <thead>\n",
       "    <tr style=\"text-align: right;\">\n",
       "      <th></th>\n",
       "      <th>imdb_title_id</th>\n",
       "      <th>title</th>\n",
       "      <th>original_title</th>\n",
       "      <th>year</th>\n",
       "      <th>date_published</th>\n",
       "      <th>genre</th>\n",
       "      <th>duration</th>\n",
       "      <th>country</th>\n",
       "      <th>language</th>\n",
       "      <th>director</th>\n",
       "      <th>...</th>\n",
       "      <th>votes</th>\n",
       "      <th>budget</th>\n",
       "      <th>usa_gross_income</th>\n",
       "      <th>worlwide_gross_income</th>\n",
       "      <th>metascore</th>\n",
       "      <th>reviews_from_users</th>\n",
       "      <th>reviews_from_critics</th>\n",
       "      <th>rango</th>\n",
       "      <th>budget_num</th>\n",
       "      <th>budget_curr</th>\n",
       "    </tr>\n",
       "  </thead>\n",
       "  <tbody>\n",
       "  </tbody>\n",
       "</table>\n",
       "<p>0 rows × 25 columns</p>\n",
       "</div>"
      ],
      "text/plain": [
       "Empty DataFrame\n",
       "Columns: [imdb_title_id, title, original_title, year, date_published, genre, duration, country, language, director, writer, production_company, actors, description, avg_vote, votes, budget, usa_gross_income, worlwide_gross_income, metascore, reviews_from_users, reviews_from_critics, rango, budget_num, budget_curr]\n",
       "Index: []\n",
       "\n",
       "[0 rows x 25 columns]"
      ]
     },
     "execution_count": 42,
     "metadata": {},
     "output_type": "execute_result"
    }
   ],
   "source": [
    "mascaraUSA = movies.genre == \"USA\"\n",
    "mascaraNota = movies.avg_vote > 6.4\n",
    "\n",
    "movies[mascaraUSA & mascaraNota]"
   ]
  },
  {
   "cell_type": "markdown",
   "id": "f3418b3f-95af-43fc-b488-4bad7d5e8c36",
   "metadata": {},
   "source": [
    "No hay peliculas en USA que tengan nota mayor a la moda. Por más que sea el país con mayor cantidad de películas, estas no son de alta nota."
   ]
  },
  {
   "cell_type": "code",
   "execution_count": 43,
   "id": "f80b0ff6-bad6-4849-bd31-88184e7f1396",
   "metadata": {},
   "outputs": [
    {
     "data": {
      "text/html": [
       "<div>\n",
       "<style scoped>\n",
       "    .dataframe tbody tr th:only-of-type {\n",
       "        vertical-align: middle;\n",
       "    }\n",
       "\n",
       "    .dataframe tbody tr th {\n",
       "        vertical-align: top;\n",
       "    }\n",
       "\n",
       "    .dataframe thead th {\n",
       "        text-align: right;\n",
       "    }\n",
       "</style>\n",
       "<table border=\"1\" class=\"dataframe\">\n",
       "  <thead>\n",
       "    <tr style=\"text-align: right;\">\n",
       "      <th></th>\n",
       "      <th>imdb_title_id</th>\n",
       "      <th>title</th>\n",
       "      <th>original_title</th>\n",
       "      <th>year</th>\n",
       "      <th>date_published</th>\n",
       "      <th>genre</th>\n",
       "      <th>duration</th>\n",
       "      <th>country</th>\n",
       "      <th>language</th>\n",
       "      <th>director</th>\n",
       "      <th>...</th>\n",
       "      <th>votes</th>\n",
       "      <th>budget</th>\n",
       "      <th>usa_gross_income</th>\n",
       "      <th>worlwide_gross_income</th>\n",
       "      <th>metascore</th>\n",
       "      <th>reviews_from_users</th>\n",
       "      <th>reviews_from_critics</th>\n",
       "      <th>rango</th>\n",
       "      <th>budget_num</th>\n",
       "      <th>budget_curr</th>\n",
       "    </tr>\n",
       "  </thead>\n",
       "  <tbody>\n",
       "    <tr>\n",
       "      <th>4</th>\n",
       "      <td>tt0002130</td>\n",
       "      <td>L'Inferno</td>\n",
       "      <td>L'Inferno</td>\n",
       "      <td>1911.0</td>\n",
       "      <td>1911-03-06</td>\n",
       "      <td>Adventure, Drama, Fantasy</td>\n",
       "      <td>68</td>\n",
       "      <td>Italy</td>\n",
       "      <td>Italian</td>\n",
       "      <td>Francesco Bertolini, Adolfo Padovan</td>\n",
       "      <td>...</td>\n",
       "      <td>2237</td>\n",
       "      <td>NaN</td>\n",
       "      <td>NaN</td>\n",
       "      <td>NaN</td>\n",
       "      <td>NaN</td>\n",
       "      <td>31.0</td>\n",
       "      <td>14.0</td>\n",
       "      <td>17.0</td>\n",
       "      <td>NaN</td>\n",
       "      <td>NaN</td>\n",
       "    </tr>\n",
       "    <tr>\n",
       "      <th>6</th>\n",
       "      <td>tt0002423</td>\n",
       "      <td>Madame DuBarry</td>\n",
       "      <td>Madame DuBarry</td>\n",
       "      <td>1919.0</td>\n",
       "      <td>1919-11-26</td>\n",
       "      <td>Biography, Drama, Romance</td>\n",
       "      <td>85</td>\n",
       "      <td>Germany</td>\n",
       "      <td>German</td>\n",
       "      <td>Ernst Lubitsch</td>\n",
       "      <td>...</td>\n",
       "      <td>753</td>\n",
       "      <td>NaN</td>\n",
       "      <td>NaN</td>\n",
       "      <td>NaN</td>\n",
       "      <td>NaN</td>\n",
       "      <td>12.0</td>\n",
       "      <td>9.0</td>\n",
       "      <td>3.0</td>\n",
       "      <td>NaN</td>\n",
       "      <td>NaN</td>\n",
       "    </tr>\n",
       "    <tr>\n",
       "      <th>8</th>\n",
       "      <td>tt0002452</td>\n",
       "      <td>Independenta Romaniei</td>\n",
       "      <td>Independenta Romaniei</td>\n",
       "      <td>1912.0</td>\n",
       "      <td>1912-09-01</td>\n",
       "      <td>History, War</td>\n",
       "      <td>120</td>\n",
       "      <td>Romania</td>\n",
       "      <td>NaN</td>\n",
       "      <td>Aristide Demetriade, Grigore Brezeanu</td>\n",
       "      <td>...</td>\n",
       "      <td>198</td>\n",
       "      <td>ROL 400000</td>\n",
       "      <td>NaN</td>\n",
       "      <td>NaN</td>\n",
       "      <td>NaN</td>\n",
       "      <td>4.0</td>\n",
       "      <td>1.0</td>\n",
       "      <td>3.0</td>\n",
       "      <td>400000.0</td>\n",
       "      <td>ROL</td>\n",
       "    </tr>\n",
       "    <tr>\n",
       "      <th>10</th>\n",
       "      <td>tt0002646</td>\n",
       "      <td>Atlantis</td>\n",
       "      <td>Atlantis</td>\n",
       "      <td>1913.0</td>\n",
       "      <td>1913-12-26</td>\n",
       "      <td>Drama</td>\n",
       "      <td>121</td>\n",
       "      <td>Denmark</td>\n",
       "      <td>Danish</td>\n",
       "      <td>August Blom</td>\n",
       "      <td>...</td>\n",
       "      <td>331</td>\n",
       "      <td>NaN</td>\n",
       "      <td>NaN</td>\n",
       "      <td>NaN</td>\n",
       "      <td>NaN</td>\n",
       "      <td>9.0</td>\n",
       "      <td>9.0</td>\n",
       "      <td>0.0</td>\n",
       "      <td>NaN</td>\n",
       "      <td>NaN</td>\n",
       "    </tr>\n",
       "    <tr>\n",
       "      <th>11</th>\n",
       "      <td>tt0002844</td>\n",
       "      <td>Fantômas - À l'ombre de la guillotine</td>\n",
       "      <td>Fantômas - À l'ombre de la guillotine</td>\n",
       "      <td>1913.0</td>\n",
       "      <td>1913-05-12</td>\n",
       "      <td>Crime, Drama</td>\n",
       "      <td>54</td>\n",
       "      <td>France</td>\n",
       "      <td>French</td>\n",
       "      <td>Louis Feuillade</td>\n",
       "      <td>...</td>\n",
       "      <td>1944</td>\n",
       "      <td>NaN</td>\n",
       "      <td>NaN</td>\n",
       "      <td>NaN</td>\n",
       "      <td>NaN</td>\n",
       "      <td>9.0</td>\n",
       "      <td>28.0</td>\n",
       "      <td>-19.0</td>\n",
       "      <td>NaN</td>\n",
       "      <td>NaN</td>\n",
       "    </tr>\n",
       "  </tbody>\n",
       "</table>\n",
       "<p>5 rows × 25 columns</p>\n",
       "</div>"
      ],
      "text/plain": [
       "   imdb_title_id                                  title  \\\n",
       "4      tt0002130                              L'Inferno   \n",
       "6      tt0002423                         Madame DuBarry   \n",
       "8      tt0002452                  Independenta Romaniei   \n",
       "10     tt0002646                               Atlantis   \n",
       "11     tt0002844  Fantômas - À l'ombre de la guillotine   \n",
       "\n",
       "                           original_title    year date_published  \\\n",
       "4                               L'Inferno  1911.0     1911-03-06   \n",
       "6                          Madame DuBarry  1919.0     1919-11-26   \n",
       "8                   Independenta Romaniei  1912.0     1912-09-01   \n",
       "10                               Atlantis  1913.0     1913-12-26   \n",
       "11  Fantômas - À l'ombre de la guillotine  1913.0     1913-05-12   \n",
       "\n",
       "                        genre  duration  country language  \\\n",
       "4   Adventure, Drama, Fantasy        68    Italy  Italian   \n",
       "6   Biography, Drama, Romance        85  Germany   German   \n",
       "8                History, War       120  Romania      NaN   \n",
       "10                      Drama       121  Denmark   Danish   \n",
       "11               Crime, Drama        54   France   French   \n",
       "\n",
       "                                 director  ... votes      budget  \\\n",
       "4     Francesco Bertolini, Adolfo Padovan  ...  2237         NaN   \n",
       "6                          Ernst Lubitsch  ...   753         NaN   \n",
       "8   Aristide Demetriade, Grigore Brezeanu  ...   198  ROL 400000   \n",
       "10                            August Blom  ...   331         NaN   \n",
       "11                        Louis Feuillade  ...  1944         NaN   \n",
       "\n",
       "   usa_gross_income worlwide_gross_income  metascore  reviews_from_users  \\\n",
       "4               NaN                   NaN        NaN                31.0   \n",
       "6               NaN                   NaN        NaN                12.0   \n",
       "8               NaN                   NaN        NaN                 4.0   \n",
       "10              NaN                   NaN        NaN                 9.0   \n",
       "11              NaN                   NaN        NaN                 9.0   \n",
       "\n",
       "   reviews_from_critics rango budget_num  budget_curr  \n",
       "4                  14.0  17.0        NaN          NaN  \n",
       "6                   9.0   3.0        NaN          NaN  \n",
       "8                   1.0   3.0   400000.0          ROL  \n",
       "10                  9.0   0.0        NaN          NaN  \n",
       "11                 28.0 -19.0        NaN          NaN  \n",
       "\n",
       "[5 rows x 25 columns]"
      ]
     },
     "execution_count": 43,
     "metadata": {},
     "output_type": "execute_result"
    }
   ],
   "source": [
    "#Aquí estoy sacando los 5 primeros, no necesariamente los más altos\n",
    "movies[mascaraNota].head(5)"
   ]
  },
  {
   "cell_type": "code",
   "execution_count": 44,
   "id": "c60d35c0-69a1-427e-a8d0-1e6d74e79c77",
   "metadata": {},
   "outputs": [
    {
     "data": {
      "text/html": [
       "<div>\n",
       "<style scoped>\n",
       "    .dataframe tbody tr th:only-of-type {\n",
       "        vertical-align: middle;\n",
       "    }\n",
       "\n",
       "    .dataframe tbody tr th {\n",
       "        vertical-align: top;\n",
       "    }\n",
       "\n",
       "    .dataframe thead th {\n",
       "        text-align: right;\n",
       "    }\n",
       "</style>\n",
       "<table border=\"1\" class=\"dataframe\">\n",
       "  <thead>\n",
       "    <tr style=\"text-align: right;\">\n",
       "      <th></th>\n",
       "      <th>imdb_title_id</th>\n",
       "      <th>title</th>\n",
       "      <th>original_title</th>\n",
       "      <th>year</th>\n",
       "      <th>date_published</th>\n",
       "      <th>genre</th>\n",
       "      <th>duration</th>\n",
       "      <th>country</th>\n",
       "      <th>language</th>\n",
       "      <th>director</th>\n",
       "      <th>...</th>\n",
       "      <th>votes</th>\n",
       "      <th>budget</th>\n",
       "      <th>usa_gross_income</th>\n",
       "      <th>worlwide_gross_income</th>\n",
       "      <th>metascore</th>\n",
       "      <th>reviews_from_users</th>\n",
       "      <th>reviews_from_critics</th>\n",
       "      <th>rango</th>\n",
       "      <th>budget_num</th>\n",
       "      <th>budget_curr</th>\n",
       "    </tr>\n",
       "  </thead>\n",
       "  <tbody>\n",
       "  </tbody>\n",
       "</table>\n",
       "<p>0 rows × 25 columns</p>\n",
       "</div>"
      ],
      "text/plain": [
       "Empty DataFrame\n",
       "Columns: [imdb_title_id, title, original_title, year, date_published, genre, duration, country, language, director, writer, production_company, actors, description, avg_vote, votes, budget, usa_gross_income, worlwide_gross_income, metascore, reviews_from_users, reviews_from_critics, rango, budget_num, budget_curr]\n",
       "Index: []\n",
       "\n",
       "[0 rows x 25 columns]"
      ]
     },
     "execution_count": 44,
     "metadata": {},
     "output_type": "execute_result"
    }
   ],
   "source": [
    "mascaraIndia = movies.genre == \"India\"\n",
    "mascaraNota = movies.avg_vote > 6.4\n",
    "\n",
    "movies[mascaraIndia & mascaraNota]"
   ]
  },
  {
   "cell_type": "code",
   "execution_count": null,
   "id": "4919ca4e-0f7f-4f96-812b-844bfbd863c7",
   "metadata": {},
   "outputs": [],
   "source": []
  }
 ],
 "metadata": {
  "kernelspec": {
   "display_name": "Python 3",
   "language": "python",
   "name": "python3"
  },
  "language_info": {
   "codemirror_mode": {
    "name": "ipython",
    "version": 3
   },
   "file_extension": ".py",
   "mimetype": "text/x-python",
   "name": "python",
   "nbconvert_exporter": "python",
   "pygments_lexer": "ipython3",
   "version": "3.8.8"
  }
 },
 "nbformat": 4,
 "nbformat_minor": 5
}
