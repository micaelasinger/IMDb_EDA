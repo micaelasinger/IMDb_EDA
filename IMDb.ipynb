{
 "cells": [
  {
   "cell_type": "markdown",
   "id": "fecd12c9-d5c4-4767-b3be-f8a15f17d055",
   "metadata": {},
   "source": [
    "# IMDb EDA\n",
    "\n",
    "## Introduction\n",
    "IMDb (Internet Movie Database) is one of the most famous internet sites of movies, that combiens movie description, score, language and many other aspects.\n",
    "\n",
    "The internet site is known for having a large variety of movies, from old movies to movies that are still on planning phase.\n",
    "\n",
    "IMDb stores information of more than 6 million titles (almost 500.000 are movies) and is property of Amazon since 1998."
   ]
  },
  {
   "cell_type": "markdown",
   "id": "26ab2a34-23b3-4f1b-b682-095a8ddb7985",
   "metadata": {},
   "source": [
    "## Objective\n",
    "\n",
    "The objective of this EDA from data collected from IMDb is to determine which are the key variables that make a movie succesful. In this analysis, a film's success will be determined by the rating it receives from users (general public) and from critics.\n",
    "During the analysis, a positive correlation is found between the \"metascore\" (critics' rating of the movie) and the \"average vote\" (users' rating of the movie). Therefore, any of these two variables can be employed in order to determine  what are the key variables that make a film succesfull, by analyzing the highest scored films. Due to the fact that there is more data from the users' point of view, the variable considered for this analysis is the \"average score\"."
   ]
  },
  {
   "cell_type": "markdown",
   "id": "4830351e-d3ac-4653-b50a-4e8dfea18626",
   "metadata": {},
   "source": [
    "## Context\n",
    "\n",
    "The following video shares a brief story of the creation of IMDb:"
   ]
  },
  {
   "cell_type": "code",
   "execution_count": 5,
   "id": "da462b03-51c1-4207-99aa-bca5227d44f5",
   "metadata": {},
   "outputs": [
    {
     "data": {
      "image/jpeg": "[encoded data removed]",
      "text/html": [
       "\n",
       "        <iframe\n",
       "            width=\"400\"\n",
       "            height=\"300\"\n",
       "            src=\"https://www.youtube.com/embed/Bttf6waezco\"\n",
       "            frameborder=\"0\"\n",
       "            allowfullscreen\n",
       "        ></iframe>\n",
       "        "
      ],
      "text/plain": [
       "<IPython.lib.display.YouTubeVideo at 0x18cbd276430>"
      ]
     },
     "metadata": {},
     "output_type": "display_data"
    }
   ],
   "source": [
    "from IPython.display import YouTubeVideo\n",
    "youtube_video = YouTubeVideo('Bttf6waezco')\n",
    "display(youtube_video)"
   ]
  },
  {
   "cell_type": "markdown",
   "id": "a672d0f1-cbb4-4660-9c3a-83557944f548",
   "metadata": {},
   "source": [
    "## Data dictionary\n",
    "List of variables' names and definitions in the database."
   ]
  },
  {
   "cell_type": "markdown",
   "id": "f44fba72-9ba8-464d-946d-0a15ef9f79e3",
   "metadata": {},
   "source": [
    "|Number| Variable | Definition |\n",
    "|:----:|:--------:|:----------:|\n",
    "| 1| imdb_title_id| Movie ID within the database|\n",
    "| 2| title| Title of the movie|\n",
    "| 3| original_title| Original title of the movie, usually the name by which the movie is known in their country of origin|\n",
    "| 4| year| Year of earliest release of this title globally|\n",
    "| 5| date_published| Exact date of publishing|\n",
    "| 6| genre| Movie genre|\n",
    "| 7| duration| Movie duration|\n",
    "| 8| country| Country where the film was shot|\n",
    "| 9| language| Movie language|\n",
    "| 10| director| Director of the movie|\n",
    "| 11| writer| Writer of the movie|\n",
    "| 12| production_company| Company that produced the film|\n",
    "| 13| actors| Actors and actresses that are part of the film|\n",
    "| 14| description| Movie description|\n",
    "| 15| avg_vote| Weighted average vote. According to IMDb, not all votes have the same impact|\n",
    "| 16| votes| Quantity of votes registered|\n",
    "| 17| buget| Budget of the film|\n",
    "| 18| usa_gross_income| Gross income in USA|\n",
    "| 19| worldwide_gross_income| Worlwide gross income|\n",
    "| 20| metascore| Average of critics' opinion. Needs at least 4 critics' reviews to be calculated|\n",
    "| 21| reviews_from_users| Quantity of reviews that users submit|\n",
    "| 22| reviews_from_critics| Quantity of critics' reviews|"
   ]
  },
  {
   "cell_type": "markdown",
   "id": "8454d05e-2e6d-411d-84ac-8583f09b1544",
   "metadata": {},
   "source": [
    "## Ingestion and structural analysis\n",
    "The dataset is imported in .csv format and so are the libraries pandas, numpy and matplotlib."
   ]
  },
  {
   "cell_type": "code",
   "execution_count": 15,
   "id": "e87edc67-defb-4bb9-a062-055f531b38a2",
   "metadata": {},
   "outputs": [],
   "source": [
    "%matplotlib inline\n",
    "import pandas as pd\n",
    "import numpy as np\n",
    "import matplotlib.pyplot as plt\n",
    "import seaborn as sns\n",
    "plt.style.use(\"seaborn\")"
   ]
  },
  {
   "cell_type": "code",
   "execution_count": 4,
   "id": "b6570718-a2c6-458a-a0c2-75c2820ff105",
   "metadata": {},
   "outputs": [
    {
     "name": "stderr",
     "output_type": "stream",
     "text": [
      "C:\\Users\\Micaela Rodriguez\\anaconda3\\lib\\site-packages\\IPython\\core\\interactiveshell.py:3165: DtypeWarning: Columns (3) have mixed types.Specify dtype option on import or set low_memory=False.\n",
      "  has_raised = await self.run_ast_nodes(code_ast.body, cell_name,\n"
     ]
    }
   ],
   "source": [
    "movies = pd.read_csv('Datos/movies.csv')"
   ]
  },
  {
   "cell_type": "markdown",
   "id": "cf0dd94d-d2e6-4a99-8302-349a90ce3925",
   "metadata": {},
   "source": [
    "The warning is generated because there is a column that contains more than one dtype. Pandas tries to determine what dtype to set by analyzing the data in each column, but this is very memory demanding.\n",
    "\n",
    "The option of setting the function on \"low_memory=False\" is not recommended for big datasets since it just silences the problem. However, in this case, the dataset isn´t that large and the columns with more than one dtype can be identified and dealt with along the analysis. Thus, the the function \"low_memory=False\" is used. "
   ]
  },
  {
   "cell_type": "code",
   "execution_count": 5,
   "id": "9efa7372-8716-422f-96f5-2681cdef5491",
   "metadata": {},
   "outputs": [],
   "source": [
    "movies = pd.read_csv('Datos/movies.csv', low_memory=False, na_values=[\"NaN\",\"\"])"
   ]
  },
  {
   "cell_type": "markdown",
   "id": "a0d4f01f-fc23-4924-8ea5-f57dc007f750",
   "metadata": {},
   "source": [
    "Next, the first five observations are printed."
   ]
  },
  {
   "cell_type": "code",
   "execution_count": 9,
   "id": "167a4c6f-8e56-4cdd-bb78-8f641aa8a313",
   "metadata": {},
   "outputs": [
    {
     "data": {
      "text/html": [
       "<div>\n",
       "<style scoped>\n",
       "    .dataframe tbody tr th:only-of-type {\n",
       "        vertical-align: middle;\n",
       "    }\n",
       "\n",
       "    .dataframe tbody tr th {\n",
       "        vertical-align: top;\n",
       "    }\n",
       "\n",
       "    .dataframe thead th {\n",
       "        text-align: right;\n",
       "    }\n",
       "</style>\n",
       "<table border=\"1\" class=\"dataframe\">\n",
       "  <thead>\n",
       "    <tr style=\"text-align: right;\">\n",
       "      <th></th>\n",
       "      <th>imdb_title_id</th>\n",
       "      <th>title</th>\n",
       "      <th>original_title</th>\n",
       "      <th>year</th>\n",
       "      <th>date_published</th>\n",
       "      <th>genre</th>\n",
       "      <th>duration</th>\n",
       "      <th>country</th>\n",
       "      <th>language</th>\n",
       "      <th>director</th>\n",
       "      <th>...</th>\n",
       "      <th>actors</th>\n",
       "      <th>description</th>\n",
       "      <th>avg_vote</th>\n",
       "      <th>votes</th>\n",
       "      <th>budget</th>\n",
       "      <th>usa_gross_income</th>\n",
       "      <th>worlwide_gross_income</th>\n",
       "      <th>metascore</th>\n",
       "      <th>reviews_from_users</th>\n",
       "      <th>reviews_from_critics</th>\n",
       "    </tr>\n",
       "  </thead>\n",
       "  <tbody>\n",
       "    <tr>\n",
       "      <th>0</th>\n",
       "      <td>tt0000009</td>\n",
       "      <td>Miss Jerry</td>\n",
       "      <td>Miss Jerry</td>\n",
       "      <td>1894</td>\n",
       "      <td>1894-10-09</td>\n",
       "      <td>Romance</td>\n",
       "      <td>45</td>\n",
       "      <td>USA</td>\n",
       "      <td>None</td>\n",
       "      <td>Alexander Black</td>\n",
       "      <td>...</td>\n",
       "      <td>Blanche Bayliss, William Courtenay, Chauncey D...</td>\n",
       "      <td>The adventures of a female reporter in the 1890s.</td>\n",
       "      <td>5.9</td>\n",
       "      <td>154</td>\n",
       "      <td>NaN</td>\n",
       "      <td>NaN</td>\n",
       "      <td>NaN</td>\n",
       "      <td>NaN</td>\n",
       "      <td>1.0</td>\n",
       "      <td>2.0</td>\n",
       "    </tr>\n",
       "    <tr>\n",
       "      <th>1</th>\n",
       "      <td>tt0000574</td>\n",
       "      <td>The Story of the Kelly Gang</td>\n",
       "      <td>The Story of the Kelly Gang</td>\n",
       "      <td>1906</td>\n",
       "      <td>1906-12-26</td>\n",
       "      <td>Biography, Crime, Drama</td>\n",
       "      <td>70</td>\n",
       "      <td>Australia</td>\n",
       "      <td>None</td>\n",
       "      <td>Charles Tait</td>\n",
       "      <td>...</td>\n",
       "      <td>Elizabeth Tait, John Tait, Norman Campbell, Be...</td>\n",
       "      <td>True story of notorious Australian outlaw Ned ...</td>\n",
       "      <td>6.1</td>\n",
       "      <td>589</td>\n",
       "      <td>$ 2250</td>\n",
       "      <td>NaN</td>\n",
       "      <td>NaN</td>\n",
       "      <td>NaN</td>\n",
       "      <td>7.0</td>\n",
       "      <td>7.0</td>\n",
       "    </tr>\n",
       "    <tr>\n",
       "      <th>2</th>\n",
       "      <td>tt0001892</td>\n",
       "      <td>Den sorte drøm</td>\n",
       "      <td>Den sorte drøm</td>\n",
       "      <td>1911</td>\n",
       "      <td>1911-08-19</td>\n",
       "      <td>Drama</td>\n",
       "      <td>53</td>\n",
       "      <td>Germany, Denmark</td>\n",
       "      <td>NaN</td>\n",
       "      <td>Urban Gad</td>\n",
       "      <td>...</td>\n",
       "      <td>Asta Nielsen, Valdemar Psilander, Gunnar Helse...</td>\n",
       "      <td>Two men of high rank are both wooing the beaut...</td>\n",
       "      <td>5.8</td>\n",
       "      <td>188</td>\n",
       "      <td>NaN</td>\n",
       "      <td>NaN</td>\n",
       "      <td>NaN</td>\n",
       "      <td>NaN</td>\n",
       "      <td>5.0</td>\n",
       "      <td>2.0</td>\n",
       "    </tr>\n",
       "    <tr>\n",
       "      <th>3</th>\n",
       "      <td>tt0002101</td>\n",
       "      <td>Cleopatra</td>\n",
       "      <td>Cleopatra</td>\n",
       "      <td>1912</td>\n",
       "      <td>1912-11-13</td>\n",
       "      <td>Drama, History</td>\n",
       "      <td>100</td>\n",
       "      <td>USA</td>\n",
       "      <td>English</td>\n",
       "      <td>Charles L. Gaskill</td>\n",
       "      <td>...</td>\n",
       "      <td>Helen Gardner, Pearl Sindelar, Miss Fielding, ...</td>\n",
       "      <td>The fabled queen of Egypt's affair with Roman ...</td>\n",
       "      <td>5.2</td>\n",
       "      <td>446</td>\n",
       "      <td>$ 45000</td>\n",
       "      <td>NaN</td>\n",
       "      <td>NaN</td>\n",
       "      <td>NaN</td>\n",
       "      <td>25.0</td>\n",
       "      <td>3.0</td>\n",
       "    </tr>\n",
       "    <tr>\n",
       "      <th>4</th>\n",
       "      <td>tt0002130</td>\n",
       "      <td>L'Inferno</td>\n",
       "      <td>L'Inferno</td>\n",
       "      <td>1911</td>\n",
       "      <td>1911-03-06</td>\n",
       "      <td>Adventure, Drama, Fantasy</td>\n",
       "      <td>68</td>\n",
       "      <td>Italy</td>\n",
       "      <td>Italian</td>\n",
       "      <td>Francesco Bertolini, Adolfo Padovan</td>\n",
       "      <td>...</td>\n",
       "      <td>Salvatore Papa, Arturo Pirovano, Giuseppe de L...</td>\n",
       "      <td>Loosely adapted from Dante's Divine Comedy and...</td>\n",
       "      <td>7.0</td>\n",
       "      <td>2237</td>\n",
       "      <td>NaN</td>\n",
       "      <td>NaN</td>\n",
       "      <td>NaN</td>\n",
       "      <td>NaN</td>\n",
       "      <td>31.0</td>\n",
       "      <td>14.0</td>\n",
       "    </tr>\n",
       "  </tbody>\n",
       "</table>\n",
       "<p>5 rows × 22 columns</p>\n",
       "</div>"
      ],
      "text/plain": [
       "  imdb_title_id                        title               original_title  \\\n",
       "0     tt0000009                   Miss Jerry                   Miss Jerry   \n",
       "1     tt0000574  The Story of the Kelly Gang  The Story of the Kelly Gang   \n",
       "2     tt0001892               Den sorte drøm               Den sorte drøm   \n",
       "3     tt0002101                    Cleopatra                    Cleopatra   \n",
       "4     tt0002130                    L'Inferno                    L'Inferno   \n",
       "\n",
       "   year date_published                      genre  duration           country  \\\n",
       "0  1894     1894-10-09                    Romance        45               USA   \n",
       "1  1906     1906-12-26    Biography, Crime, Drama        70         Australia   \n",
       "2  1911     1911-08-19                      Drama        53  Germany, Denmark   \n",
       "3  1912     1912-11-13             Drama, History       100               USA   \n",
       "4  1911     1911-03-06  Adventure, Drama, Fantasy        68             Italy   \n",
       "\n",
       "  language                             director  ...  \\\n",
       "0     None                      Alexander Black  ...   \n",
       "1     None                         Charles Tait  ...   \n",
       "2      NaN                            Urban Gad  ...   \n",
       "3  English                   Charles L. Gaskill  ...   \n",
       "4  Italian  Francesco Bertolini, Adolfo Padovan  ...   \n",
       "\n",
       "                                              actors  \\\n",
       "0  Blanche Bayliss, William Courtenay, Chauncey D...   \n",
       "1  Elizabeth Tait, John Tait, Norman Campbell, Be...   \n",
       "2  Asta Nielsen, Valdemar Psilander, Gunnar Helse...   \n",
       "3  Helen Gardner, Pearl Sindelar, Miss Fielding, ...   \n",
       "4  Salvatore Papa, Arturo Pirovano, Giuseppe de L...   \n",
       "\n",
       "                                         description avg_vote votes   budget  \\\n",
       "0  The adventures of a female reporter in the 1890s.      5.9   154      NaN   \n",
       "1  True story of notorious Australian outlaw Ned ...      6.1   589   $ 2250   \n",
       "2  Two men of high rank are both wooing the beaut...      5.8   188      NaN   \n",
       "3  The fabled queen of Egypt's affair with Roman ...      5.2   446  $ 45000   \n",
       "4  Loosely adapted from Dante's Divine Comedy and...      7.0  2237      NaN   \n",
       "\n",
       "   usa_gross_income worlwide_gross_income metascore reviews_from_users  \\\n",
       "0               NaN                   NaN       NaN                1.0   \n",
       "1               NaN                   NaN       NaN                7.0   \n",
       "2               NaN                   NaN       NaN                5.0   \n",
       "3               NaN                   NaN       NaN               25.0   \n",
       "4               NaN                   NaN       NaN               31.0   \n",
       "\n",
       "   reviews_from_critics  \n",
       "0                   2.0  \n",
       "1                   7.0  \n",
       "2                   2.0  \n",
       "3                   3.0  \n",
       "4                  14.0  \n",
       "\n",
       "[5 rows x 22 columns]"
      ]
     },
     "execution_count": 9,
     "metadata": {},
     "output_type": "execute_result"
    }
   ],
   "source": [
    "movies.head()"
   ]
  },
  {
   "cell_type": "markdown",
   "id": "47448bbe-7a16-4841-aab1-0da5945df313",
   "metadata": {},
   "source": [
    "Then, the function \"info\" is employed to obtain a summary of the structural data. This allows us to understand the type of data we have, how much memory we are spending in our ram memory and the amount of nulls."
   ]
  },
  {
   "cell_type": "code",
   "execution_count": 10,
   "id": "5db5516a-c19b-417f-a6f0-d1b5a2f0409a",
   "metadata": {},
   "outputs": [
    {
     "name": "stdout",
     "output_type": "stream",
     "text": [
      "<class 'pandas.core.frame.DataFrame'>\n",
      "RangeIndex: 85855 entries, 0 to 85854\n",
      "Data columns (total 22 columns):\n",
      " #   Column                 Non-Null Count  Dtype  \n",
      "---  ------                 --------------  -----  \n",
      " 0   imdb_title_id          85855 non-null  object \n",
      " 1   title                  85855 non-null  object \n",
      " 2   original_title         85855 non-null  object \n",
      " 3   year                   85855 non-null  object \n",
      " 4   date_published         85855 non-null  object \n",
      " 5   genre                  85855 non-null  object \n",
      " 6   duration               85855 non-null  int64  \n",
      " 7   country                85791 non-null  object \n",
      " 8   language               85022 non-null  object \n",
      " 9   director               85768 non-null  object \n",
      " 10  writer                 84283 non-null  object \n",
      " 11  production_company     81400 non-null  object \n",
      " 12  actors                 85786 non-null  object \n",
      " 13  description            83740 non-null  object \n",
      " 14  avg_vote               85855 non-null  float64\n",
      " 15  votes                  85855 non-null  int64  \n",
      " 16  budget                 23710 non-null  object \n",
      " 17  usa_gross_income       15326 non-null  object \n",
      " 18  worlwide_gross_income  31016 non-null  object \n",
      " 19  metascore              13305 non-null  float64\n",
      " 20  reviews_from_users     78258 non-null  float64\n",
      " 21  reviews_from_critics   74058 non-null  float64\n",
      "dtypes: float64(4), int64(2), object(16)\n",
      "memory usage: 14.4+ MB\n"
     ]
    }
   ],
   "source": [
    "movies.info()"
   ]
  },
  {
   "cell_type": "markdown",
   "id": "d27c8c3c-24ab-49c3-9f74-afbd39e1bea5",
   "metadata": {},
   "source": [
    "From the above answer, it follows that there are a total of 85855 entries and 22 columns. Of these columns, 4 are of type float, 2 integer and 16 characters (object)."
   ]
  },
  {
   "cell_type": "markdown",
   "id": "2b62971e-f47a-4096-b19f-958f4bbab308",
   "metadata": {},
   "source": [
    "### Data cleansing\n",
    "* Converting variable \"year\" from object to float\n",
    "Since the variable \"year\" is an object, it must be converted to a float for further analysis."
   ]
  },
  {
   "cell_type": "code",
   "execution_count": 6,
   "id": "26e0668d-0424-4d2b-8294-bf94c384edc8",
   "metadata": {},
   "outputs": [
    {
     "data": {
      "text/plain": [
       "0    2017\n",
       "dtype: object"
      ]
     },
     "execution_count": 6,
     "metadata": {},
     "output_type": "execute_result"
    }
   ],
   "source": [
    "movies.year.mode()"
   ]
  },
  {
   "cell_type": "code",
   "execution_count": 46,
   "id": "7c727651-1dc9-410a-867a-f7b3c8754924",
   "metadata": {},
   "outputs": [
    {
     "name": "stdout",
     "output_type": "stream",
     "text": [
      "float64\n"
     ]
    }
   ],
   "source": [
    "movies[\"year\"]=pd.to_numeric(movies[\"year\"],errors='coerce') # pd.to_numeric converts argument to a numeric type.\n",
    "#errors='coerce' then invalid parsing will be set as NaN.\n",
    "print(movies.year.dtype)"
   ]
  },
  {
   "cell_type": "code",
   "execution_count": 21,
   "id": "69b09b33-98e6-4787-9267-1f97d65a2d02",
   "metadata": {
    "tags": []
   },
   "outputs": [
    {
     "name": "stdout",
     "output_type": "stream",
     "text": [
      "<class 'pandas.core.frame.DataFrame'>\n",
      "RangeIndex: 85855 entries, 0 to 85854\n",
      "Data columns (total 22 columns):\n",
      " #   Column                 Non-Null Count  Dtype  \n",
      "---  ------                 --------------  -----  \n",
      " 0   imdb_title_id          85855 non-null  object \n",
      " 1   title                  85855 non-null  object \n",
      " 2   original_title         85855 non-null  object \n",
      " 3   year                   85854 non-null  float64\n",
      " 4   date_published         85855 non-null  object \n",
      " 5   genre                  85855 non-null  object \n",
      " 6   duration               85855 non-null  int64  \n",
      " 7   country                85791 non-null  object \n",
      " 8   language               85022 non-null  object \n",
      " 9   director               85768 non-null  object \n",
      " 10  writer                 84283 non-null  object \n",
      " 11  production_company     81400 non-null  object \n",
      " 12  actors                 85786 non-null  object \n",
      " 13  description            83740 non-null  object \n",
      " 14  avg_vote               85855 non-null  float64\n",
      " 15  votes                  85855 non-null  int64  \n",
      " 16  budget                 23710 non-null  object \n",
      " 17  usa_gross_income       15326 non-null  object \n",
      " 18  worlwide_gross_income  31016 non-null  object \n",
      " 19  metascore              13305 non-null  float64\n",
      " 20  reviews_from_users     78258 non-null  float64\n",
      " 21  reviews_from_critics   74058 non-null  float64\n",
      "dtypes: float64(5), int64(2), object(15)\n",
      "memory usage: 14.4+ MB\n"
     ]
    }
   ],
   "source": [
    "movies.info()"
   ]
  },
  {
   "cell_type": "markdown",
   "id": "1b1a5673-4def-411c-8410-ac82993c19b3",
   "metadata": {},
   "source": [
    "Now, \"year\" is a float. Just to make sure that \"year\" is clean, we look for an attribute that previously existed in the dataset and would now be invalid (TV Movie 2019)."
   ]
  },
  {
   "cell_type": "code",
   "execution_count": 47,
   "id": "d591b823-58f0-45e6-aab7-788e531eedff",
   "metadata": {},
   "outputs": [
    {
     "data": {
      "text/html": [
       "<div>\n",
       "<style scoped>\n",
       "    .dataframe tbody tr th:only-of-type {\n",
       "        vertical-align: middle;\n",
       "    }\n",
       "\n",
       "    .dataframe tbody tr th {\n",
       "        vertical-align: top;\n",
       "    }\n",
       "\n",
       "    .dataframe thead th {\n",
       "        text-align: right;\n",
       "    }\n",
       "</style>\n",
       "<table border=\"1\" class=\"dataframe\">\n",
       "  <thead>\n",
       "    <tr style=\"text-align: right;\">\n",
       "      <th></th>\n",
       "      <th>imdb_title_id</th>\n",
       "      <th>title</th>\n",
       "      <th>original_title</th>\n",
       "      <th>year</th>\n",
       "      <th>date_published</th>\n",
       "      <th>genre</th>\n",
       "      <th>duration</th>\n",
       "      <th>country</th>\n",
       "      <th>language</th>\n",
       "      <th>director</th>\n",
       "      <th>...</th>\n",
       "      <th>votes</th>\n",
       "      <th>budget</th>\n",
       "      <th>usa_gross_income</th>\n",
       "      <th>worlwide_gross_income</th>\n",
       "      <th>metascore</th>\n",
       "      <th>reviews_from_users</th>\n",
       "      <th>reviews_from_critics</th>\n",
       "      <th>rango</th>\n",
       "      <th>budget_num</th>\n",
       "      <th>budget_curr</th>\n",
       "    </tr>\n",
       "  </thead>\n",
       "  <tbody>\n",
       "  </tbody>\n",
       "</table>\n",
       "<p>0 rows × 25 columns</p>\n",
       "</div>"
      ],
      "text/plain": [
       "Empty DataFrame\n",
       "Columns: [imdb_title_id, title, original_title, year, date_published, genre, duration, country, language, director, writer, production_company, actors, description, avg_vote, votes, budget, usa_gross_income, worlwide_gross_income, metascore, reviews_from_users, reviews_from_critics, rango, budget_num, budget_curr]\n",
       "Index: []\n",
       "\n",
       "[0 rows x 25 columns]"
      ]
     },
     "execution_count": 47,
     "metadata": {},
     "output_type": "execute_result"
    }
   ],
   "source": [
    "# \"TV Movie 2019\" is an attribute that existed on the year column. \n",
    "#The result of this should be 0 since it would be invalid parsing\n",
    "movies[movies.year == \"TV Movie 2019\"]"
   ]
  },
  {
   "cell_type": "markdown",
   "id": "d06fbed8-5a5f-47b8-9062-a5cb459d316a",
   "metadata": {},
   "source": [
    "* Bringing variables \"metascore\" and \"avg_vote\" to base 10 (NO SÉ SI SE DICE ASÍ)"
   ]
  },
  {
   "cell_type": "code",
   "execution_count": 61,
   "id": "29b59f15-33aa-44ca-98c4-3d1317aab1d7",
   "metadata": {},
   "outputs": [
    {
     "data": {
      "text/plain": [
       "100.0"
      ]
     },
     "execution_count": 61,
     "metadata": {},
     "output_type": "execute_result"
    }
   ],
   "source": [
    "movies.metascore.max()"
   ]
  },
  {
   "cell_type": "code",
   "execution_count": 62,
   "id": "b572f9b5-5f61-4b3f-9e99-2d1527d77514",
   "metadata": {},
   "outputs": [
    {
     "data": {
      "text/plain": [
       "9.9"
      ]
     },
     "execution_count": 62,
     "metadata": {},
     "output_type": "execute_result"
    }
   ],
   "source": [
    "movies.avg_vote.max()"
   ]
  },
  {
   "cell_type": "markdown",
   "id": "1f49d7e8-5365-46d2-b6dc-52f65228f1e5",
   "metadata": {},
   "source": [
    "In order to compare these variables, they both have to be under the same base. Therefore, \"metascore\" will be divided by 10."
   ]
  },
  {
   "cell_type": "code",
   "execution_count": 9,
   "id": "ec441655-0d2d-4ebf-8124-733438a41337",
   "metadata": {},
   "outputs": [],
   "source": [
    "movies.metascore = movies.metascore/10"
   ]
  },
  {
   "cell_type": "code",
   "execution_count": 10,
   "id": "fb6b61c0-183d-4719-b688-0e0d14f832ee",
   "metadata": {},
   "outputs": [
    {
     "data": {
      "text/plain": [
       "10.0"
      ]
     },
     "execution_count": 10,
     "metadata": {},
     "output_type": "execute_result"
    }
   ],
   "source": [
    "movies.metascore.max()"
   ]
  },
  {
   "cell_type": "markdown",
   "id": "0c05907b-98ee-4c54-8635-14f41f609733",
   "metadata": {},
   "source": [
    "We've overwritten metascore with the new metascore, which is divided by 10."
   ]
  },
  {
   "cell_type": "markdown",
   "id": "0b163430-9a0a-417e-b2cc-0d0d182c9e28",
   "metadata": {},
   "source": [
    "* Cleaning the variable \"budget\""
   ]
  },
  {
   "cell_type": "code",
   "execution_count": 89,
   "id": "2f25aabf-3a88-4c91-aaa0-15f146433043",
   "metadata": {},
   "outputs": [
    {
     "data": {
      "text/plain": [
       "dtype('O')"
      ]
     },
     "execution_count": 89,
     "metadata": {},
     "output_type": "execute_result"
    }
   ],
   "source": [
    "movies.budget.dtype"
   ]
  },
  {
   "cell_type": "markdown",
   "id": "c8920158-b42c-426d-a6df-1ed65feaab73",
   "metadata": {
    "tags": []
   },
   "source": [
    "\"Budget\" is an object and not a float."
   ]
  },
  {
   "cell_type": "code",
   "execution_count": 86,
   "id": "1bb2fbb6-0192-4c88-aa9a-f51e52696755",
   "metadata": {},
   "outputs": [
    {
     "data": {
      "text/plain": [
       "0           NaN\n",
       "1        $ 2250\n",
       "2           NaN\n",
       "3       $ 45000\n",
       "4           NaN\n",
       "5           NaN\n",
       "6           NaN\n",
       "7     ITL 45000\n",
       "8    ROL 400000\n",
       "9       $ 30000\n",
       "Name: budget, dtype: object"
      ]
     },
     "execution_count": 86,
     "metadata": {},
     "output_type": "execute_result"
    }
   ],
   "source": [
    "movies.budget.head(10)"
   ]
  },
  {
   "cell_type": "markdown",
   "id": "38609b03-5cb0-47e5-8b85-203710c119a9",
   "metadata": {},
   "source": [
    "The reason that \"budget\" is an object is that it has currencies written next to the numeric values. We want to extract the number without losing the currency so that we can later get all the budgets into only one type of currency ($)."
   ]
  },
  {
   "cell_type": "code",
   "execution_count": 26,
   "id": "d1de84a9-a153-4c3e-873a-d8a60efbc20f",
   "metadata": {},
   "outputs": [],
   "source": [
    "# The following is a cleaning function that is applied to all columns\n",
    "# \"Value\" is going to be a string\n",
    "def clean_budget(value):\n",
    "    if not value: #if value doesn´t exist, it returns nothing\n",
    "        return None\n",
    "    try:\n",
    "        lista = value.split(\" \") # divides valor that entered using a space as separator\n",
    "        return int(lista[1]) # returns the second component, that is the number. With int we make sure that it returns a number\n",
    "    except:\n",
    "        return value \n",
    "movies[\"budget_num\"]=movies.budget.apply(clean_budget)\n"
   ]
  },
  {
   "cell_type": "code",
   "execution_count": 27,
   "id": "1e4ed62b-a2a0-452e-8797-1c86745986d5",
   "metadata": {},
   "outputs": [
    {
     "data": {
      "text/plain": [
       "dtype('float64')"
      ]
     },
     "execution_count": 27,
     "metadata": {},
     "output_type": "execute_result"
    }
   ],
   "source": [
    "movies.budget_num.dtype"
   ]
  },
  {
   "cell_type": "code",
   "execution_count": 28,
   "id": "c183d625-3ecf-4246-9ee4-96fe395ee780",
   "metadata": {},
   "outputs": [],
   "source": [
    "def extract_curr(value):\n",
    "    if not value: #if value doesn´t exist, it returns nothing\n",
    "        return None\n",
    "    try:\n",
    "        lista = value.split(\" \") #it splits the value that entered considering a space\n",
    "        return lista[0] #returns the second component, which is the number. With int we make sure that it returns a number\n",
    "    except:\n",
    "        return value \n",
    "movies[\"budget_curr\"]=movies.budget.apply(extract_curr)"
   ]
  },
  {
   "cell_type": "code",
   "execution_count": 29,
   "id": "c14884f0-440e-45de-a2e1-19d90c41e2ce",
   "metadata": {},
   "outputs": [
    {
     "data": {
      "text/plain": [
       "0    NaN\n",
       "1      $\n",
       "2    NaN\n",
       "3      $\n",
       "4    NaN\n",
       "5    NaN\n",
       "6    NaN\n",
       "7    ITL\n",
       "8    ROL\n",
       "9      $\n",
       "Name: budget_curr, dtype: object"
      ]
     },
     "execution_count": 29,
     "metadata": {},
     "output_type": "execute_result"
    }
   ],
   "source": [
    "movies.budget_curr.head(10)"
   ]
  },
  {
   "cell_type": "markdown",
   "id": "f6e046e1-8f29-46b2-84d3-edcc24a469a9",
   "metadata": {},
   "source": [
    "Now we have a column with the currency for each budget. Next, we have to find out what are the currencies within the dataset."
   ]
  },
  {
   "cell_type": "code",
   "execution_count": 30,
   "id": "d1740b5b-1b65-41ab-8dfa-d6b7187c6912",
   "metadata": {},
   "outputs": [
    {
     "data": {
      "text/plain": [
       "array([nan, '$', 'ITL', 'ROL', 'SEK', 'FRF', 'NOK', 'GBP', 'DEM', 'PTE',\n",
       "       'FIM', 'CAD', 'INR', 'CHF', 'ESP', 'JPY', 'DKK', 'NLG', 'PLN',\n",
       "       'RUR', 'AUD', 'KRW', 'BEF', 'XAU', 'HKD', 'NZD', 'CNY', 'EUR',\n",
       "       'PYG', 'ISK', 'IEP', 'TRL', 'HRK', 'SIT', 'PHP', 'HUF', 'DOP',\n",
       "       'JMD', 'CZK', 'SGD', 'BRL', 'BDT', 'ATS', 'BND', 'EGP', 'THB',\n",
       "       'GRD', 'ZAR', 'NPR', 'IDR', 'PKR', 'MXN', 'BGL', 'EEK', 'YUM',\n",
       "       'MYR', 'IRR', 'CLP', 'SKK', 'LTL', 'TWD', 'MTL', 'LVL', 'COP',\n",
       "       'ARS', 'UAH', 'RON', 'ALL', 'NGN', 'ILS', 'VEB', 'VND', 'TTD',\n",
       "       'JOD', 'LKR', 'GEL', 'MNT', 'AZM', 'AMD', 'AED'], dtype=object)"
      ]
     },
     "execution_count": 30,
     "metadata": {},
     "output_type": "execute_result"
    }
   ],
   "source": [
    "#Currencies within the dataset\n",
    "movies.budget_curr.unique()"
   ]
  },
  {
   "cell_type": "code",
   "execution_count": 31,
   "id": "ccc97ede-7166-4b34-ab56-ab1511001e12",
   "metadata": {},
   "outputs": [
    {
     "data": {
      "text/plain": [
       "$      16602\n",
       "EUR     2422\n",
       "INR      906\n",
       "GBP      743\n",
       "CAD      632\n",
       "AUD      258\n",
       "SEK      154\n",
       "NOK      140\n",
       "FRF      133\n",
       "DEM      126\n",
       "BRL      114\n",
       "FIM      113\n",
       "DKK      110\n",
       "RUR       91\n",
       "CNY       69\n",
       "EGP       68\n",
       "PLN       68\n",
       "HUF       68\n",
       "IRR       64\n",
       "TRL       61\n",
       "Name: budget_curr, dtype: int64"
      ]
     },
     "execution_count": 31,
     "metadata": {},
     "output_type": "execute_result"
    }
   ],
   "source": [
    "movies.budget_curr.value_counts().head(20)"
   ]
  },
  {
   "cell_type": "markdown",
   "id": "d082d8d7-c730-40c0-a6cb-5d55fd5e45f4",
   "metadata": {},
   "source": [
    "The US dollar is the most common currency on the dataset. The sixth currency (AUD) represents approximately 1% of US dollar's presence within the dataset. Consequently, only the first five currencies will be considered for analysis: US dollar, EUR (euro), INR (indian rupees), GBP (british pound sterling) and CAD (canadian dollar). However, in order to correctly compare the budgets, all 5 currencies will be converted to US dollars. For that, we consider the following currency equivalences:"
   ]
  },
  {
   "cell_type": "markdown",
   "id": "3bd7e040-43e6-429f-a59b-52ad7550f902",
   "metadata": {},
   "source": [
    "|Number| Currency | Value equal to 1 US dollar |\n",
    "|:----:|:--------:|:----------:|\n",
    "| 1| EUR| 0.87|\n",
    "| 2| INR| 74.54|\n",
    "| 3| GBP| 0.74|\n",
    "| 4| CAD| 1.25|"
   ]
  },
  {
   "cell_type": "code",
   "execution_count": 55,
   "id": "1f528185-bf76-4ff5-b9ad-d369dab7b3e7",
   "metadata": {},
   "outputs": [],
   "source": [
    "# Depending on the currency, we will convert using the table of equivalences\n",
    "# If the budget currency is a EUR, then we divide the budget_num by 0.87\n",
    "\n",
    "movies.loc[movies.budget_curr == 'EUR','budget_num']*=(1/0.87)"
   ]
  },
  {
   "cell_type": "code",
   "execution_count": 63,
   "id": "6740d5c1-c51d-40e3-a1a1-ad42f094abbd",
   "metadata": {},
   "outputs": [
    {
     "data": {
      "text/html": [
       "<div>\n",
       "<style scoped>\n",
       "    .dataframe tbody tr th:only-of-type {\n",
       "        vertical-align: middle;\n",
       "    }\n",
       "\n",
       "    .dataframe tbody tr th {\n",
       "        vertical-align: top;\n",
       "    }\n",
       "\n",
       "    .dataframe thead th {\n",
       "        text-align: right;\n",
       "    }\n",
       "</style>\n",
       "<table border=\"1\" class=\"dataframe\">\n",
       "  <thead>\n",
       "    <tr style=\"text-align: right;\">\n",
       "      <th></th>\n",
       "      <th>imdb_title_id</th>\n",
       "      <th>title</th>\n",
       "      <th>original_title</th>\n",
       "      <th>year</th>\n",
       "      <th>date_published</th>\n",
       "      <th>genre</th>\n",
       "      <th>duration</th>\n",
       "      <th>country</th>\n",
       "      <th>language</th>\n",
       "      <th>director</th>\n",
       "      <th>...</th>\n",
       "      <th>avg_vote</th>\n",
       "      <th>votes</th>\n",
       "      <th>budget</th>\n",
       "      <th>usa_gross_income</th>\n",
       "      <th>worlwide_gross_income</th>\n",
       "      <th>metascore</th>\n",
       "      <th>reviews_from_users</th>\n",
       "      <th>reviews_from_critics</th>\n",
       "      <th>budget_num</th>\n",
       "      <th>budget_curr</th>\n",
       "    </tr>\n",
       "  </thead>\n",
       "  <tbody>\n",
       "    <tr>\n",
       "      <th>19434</th>\n",
       "      <td>tt0080802</td>\n",
       "      <td>The Godsend</td>\n",
       "      <td>The Godsend</td>\n",
       "      <td>1980</td>\n",
       "      <td>1980-01-18</td>\n",
       "      <td>Drama, Horror</td>\n",
       "      <td>93</td>\n",
       "      <td>UK</td>\n",
       "      <td>English</td>\n",
       "      <td>Gabrielle Beaumont</td>\n",
       "      <td>...</td>\n",
       "      <td>5.3</td>\n",
       "      <td>924</td>\n",
       "      <td>EUR 12000000</td>\n",
       "      <td>NaN</td>\n",
       "      <td>NaN</td>\n",
       "      <td>NaN</td>\n",
       "      <td>24.0</td>\n",
       "      <td>29.0</td>\n",
       "      <td>244474.800147</td>\n",
       "      <td>EUR</td>\n",
       "    </tr>\n",
       "    <tr>\n",
       "      <th>21504</th>\n",
       "      <td>tt0087622</td>\n",
       "      <td>L'ascensore</td>\n",
       "      <td>De lift</td>\n",
       "      <td>1983</td>\n",
       "      <td>1983-05-11</td>\n",
       "      <td>Horror, Sci-Fi, Thriller</td>\n",
       "      <td>95</td>\n",
       "      <td>Netherlands</td>\n",
       "      <td>Dutch</td>\n",
       "      <td>Dick Maas</td>\n",
       "      <td>...</td>\n",
       "      <td>6.2</td>\n",
       "      <td>5940</td>\n",
       "      <td>EUR 350000</td>\n",
       "      <td>NaN</td>\n",
       "      <td>NaN</td>\n",
       "      <td>NaN</td>\n",
       "      <td>60.0</td>\n",
       "      <td>53.0</td>\n",
       "      <td>7130.515004</td>\n",
       "      <td>EUR</td>\n",
       "    </tr>\n",
       "    <tr>\n",
       "      <th>28081</th>\n",
       "      <td>tt0109900</td>\n",
       "      <td>Giorgino</td>\n",
       "      <td>Giorgino</td>\n",
       "      <td>1994</td>\n",
       "      <td>1994-10-05</td>\n",
       "      <td>Adventure, Drama, Horror</td>\n",
       "      <td>177</td>\n",
       "      <td>France</td>\n",
       "      <td>English</td>\n",
       "      <td>Laurent Boutonnat</td>\n",
       "      <td>...</td>\n",
       "      <td>7.4</td>\n",
       "      <td>885</td>\n",
       "      <td>EUR 12000000</td>\n",
       "      <td>NaN</td>\n",
       "      <td>NaN</td>\n",
       "      <td>NaN</td>\n",
       "      <td>11.0</td>\n",
       "      <td>2.0</td>\n",
       "      <td>244474.800147</td>\n",
       "      <td>EUR</td>\n",
       "    </tr>\n",
       "    <tr>\n",
       "      <th>28671</th>\n",
       "      <td>tt0112366</td>\n",
       "      <td>Soldi proibiti</td>\n",
       "      <td>Les anges gardiens</td>\n",
       "      <td>1995</td>\n",
       "      <td>1995-10-11</td>\n",
       "      <td>Action, Comedy, Crime</td>\n",
       "      <td>110</td>\n",
       "      <td>France</td>\n",
       "      <td>French, English, Cantonese, Italian</td>\n",
       "      <td>Jean-Marie Poiré</td>\n",
       "      <td>...</td>\n",
       "      <td>5.9</td>\n",
       "      <td>2955</td>\n",
       "      <td>EUR 16200000</td>\n",
       "      <td>NaN</td>\n",
       "      <td>NaN</td>\n",
       "      <td>NaN</td>\n",
       "      <td>10.0</td>\n",
       "      <td>4.0</td>\n",
       "      <td>330040.980198</td>\n",
       "      <td>EUR</td>\n",
       "    </tr>\n",
       "    <tr>\n",
       "      <th>28679</th>\n",
       "      <td>tt0112387</td>\n",
       "      <td>L'esca</td>\n",
       "      <td>L'appât</td>\n",
       "      <td>1995</td>\n",
       "      <td>1995-03-08</td>\n",
       "      <td>Crime, Drama</td>\n",
       "      <td>115</td>\n",
       "      <td>France</td>\n",
       "      <td>French</td>\n",
       "      <td>Bertrand Tavernier</td>\n",
       "      <td>...</td>\n",
       "      <td>6.8</td>\n",
       "      <td>1965</td>\n",
       "      <td>EUR 5350000</td>\n",
       "      <td>NaN</td>\n",
       "      <td>NaN</td>\n",
       "      <td>NaN</td>\n",
       "      <td>14.0</td>\n",
       "      <td>14.0</td>\n",
       "      <td>108995.015066</td>\n",
       "      <td>EUR</td>\n",
       "    </tr>\n",
       "  </tbody>\n",
       "</table>\n",
       "<p>5 rows × 24 columns</p>\n",
       "</div>"
      ],
      "text/plain": [
       "      imdb_title_id           title      original_title  year date_published  \\\n",
       "19434     tt0080802     The Godsend         The Godsend  1980     1980-01-18   \n",
       "21504     tt0087622     L'ascensore             De lift  1983     1983-05-11   \n",
       "28081     tt0109900        Giorgino            Giorgino  1994     1994-10-05   \n",
       "28671     tt0112366  Soldi proibiti  Les anges gardiens  1995     1995-10-11   \n",
       "28679     tt0112387          L'esca             L'appât  1995     1995-03-08   \n",
       "\n",
       "                          genre  duration      country  \\\n",
       "19434             Drama, Horror        93           UK   \n",
       "21504  Horror, Sci-Fi, Thriller        95  Netherlands   \n",
       "28081  Adventure, Drama, Horror       177       France   \n",
       "28671     Action, Comedy, Crime       110       France   \n",
       "28679              Crime, Drama       115       France   \n",
       "\n",
       "                                  language            director  ... avg_vote  \\\n",
       "19434                              English  Gabrielle Beaumont  ...      5.3   \n",
       "21504                                Dutch           Dick Maas  ...      6.2   \n",
       "28081                              English   Laurent Boutonnat  ...      7.4   \n",
       "28671  French, English, Cantonese, Italian    Jean-Marie Poiré  ...      5.9   \n",
       "28679                               French  Bertrand Tavernier  ...      6.8   \n",
       "\n",
       "      votes        budget usa_gross_income  worlwide_gross_income  metascore  \\\n",
       "19434   924  EUR 12000000              NaN                    NaN        NaN   \n",
       "21504  5940    EUR 350000              NaN                    NaN        NaN   \n",
       "28081   885  EUR 12000000              NaN                    NaN        NaN   \n",
       "28671  2955  EUR 16200000              NaN                    NaN        NaN   \n",
       "28679  1965   EUR 5350000              NaN                    NaN        NaN   \n",
       "\n",
       "      reviews_from_users reviews_from_critics     budget_num  budget_curr  \n",
       "19434               24.0                 29.0  244474.800147          EUR  \n",
       "21504               60.0                 53.0    7130.515004          EUR  \n",
       "28081               11.0                  2.0  244474.800147          EUR  \n",
       "28671               10.0                  4.0  330040.980198          EUR  \n",
       "28679               14.0                 14.0  108995.015066          EUR  \n",
       "\n",
       "[5 rows x 24 columns]"
      ]
     },
     "execution_count": 63,
     "metadata": {},
     "output_type": "execute_result"
    }
   ],
   "source": [
    "# To check if it worked we use a mask and print 5 observations\n",
    "maskEUR = movies.budget_curr == \"EUR\"\n",
    "movies[maskEUR].head(5)"
   ]
  },
  {
   "cell_type": "markdown",
   "id": "bf105d19-3cbe-4242-983c-ef03b3e58dad",
   "metadata": {},
   "source": [
    "Next, we do the same conversion for the other 4 currencies."
   ]
  },
  {
   "cell_type": "code",
   "execution_count": 57,
   "id": "78d36e8a-212c-4d2a-8c81-3f5f6638a5bb",
   "metadata": {},
   "outputs": [],
   "source": [
    "# If the budget currency is a INR, then we divide the budget_num by 74.54\n",
    "\n",
    "movies.loc[movies.budget_curr == 'INR','budget_num']*=(1/74.54)"
   ]
  },
  {
   "cell_type": "code",
   "execution_count": 58,
   "id": "730fc804-d057-4445-9946-ee3e8d10e364",
   "metadata": {},
   "outputs": [
    {
     "data": {
      "text/html": [
       "<div>\n",
       "<style scoped>\n",
       "    .dataframe tbody tr th:only-of-type {\n",
       "        vertical-align: middle;\n",
       "    }\n",
       "\n",
       "    .dataframe tbody tr th {\n",
       "        vertical-align: top;\n",
       "    }\n",
       "\n",
       "    .dataframe thead th {\n",
       "        text-align: right;\n",
       "    }\n",
       "</style>\n",
       "<table border=\"1\" class=\"dataframe\">\n",
       "  <thead>\n",
       "    <tr style=\"text-align: right;\">\n",
       "      <th></th>\n",
       "      <th>imdb_title_id</th>\n",
       "      <th>title</th>\n",
       "      <th>original_title</th>\n",
       "      <th>year</th>\n",
       "      <th>date_published</th>\n",
       "      <th>genre</th>\n",
       "      <th>duration</th>\n",
       "      <th>country</th>\n",
       "      <th>language</th>\n",
       "      <th>director</th>\n",
       "      <th>...</th>\n",
       "      <th>avg_vote</th>\n",
       "      <th>votes</th>\n",
       "      <th>budget</th>\n",
       "      <th>usa_gross_income</th>\n",
       "      <th>worlwide_gross_income</th>\n",
       "      <th>metascore</th>\n",
       "      <th>reviews_from_users</th>\n",
       "      <th>reviews_from_critics</th>\n",
       "      <th>budget_num</th>\n",
       "      <th>budget_curr</th>\n",
       "    </tr>\n",
       "  </thead>\n",
       "  <tbody>\n",
       "    <tr>\n",
       "      <th>6233</th>\n",
       "      <td>tt0041619</td>\n",
       "      <td>Mahal</td>\n",
       "      <td>Mahal</td>\n",
       "      <td>1949</td>\n",
       "      <td>1949</td>\n",
       "      <td>Drama, Horror, Mystery</td>\n",
       "      <td>165</td>\n",
       "      <td>India</td>\n",
       "      <td>Hindi, Urdu</td>\n",
       "      <td>Kamal Amrohi</td>\n",
       "      <td>...</td>\n",
       "      <td>7.1</td>\n",
       "      <td>364</td>\n",
       "      <td>INR 4500000</td>\n",
       "      <td>NaN</td>\n",
       "      <td>NaN</td>\n",
       "      <td>NaN</td>\n",
       "      <td>7.0</td>\n",
       "      <td>2.0</td>\n",
       "      <td>1094.465351</td>\n",
       "      <td>INR</td>\n",
       "    </tr>\n",
       "    <tr>\n",
       "      <th>7080</th>\n",
       "      <td>tt0044318</td>\n",
       "      <td>Il principe Yanez</td>\n",
       "      <td>Aan</td>\n",
       "      <td>1952</td>\n",
       "      <td>1952-07-04</td>\n",
       "      <td>Action, Adventure, Drama</td>\n",
       "      <td>161</td>\n",
       "      <td>India</td>\n",
       "      <td>Hindi</td>\n",
       "      <td>Mehboob Khan</td>\n",
       "      <td>...</td>\n",
       "      <td>7.1</td>\n",
       "      <td>263</td>\n",
       "      <td>INR 350000</td>\n",
       "      <td>NaN</td>\n",
       "      <td>NaN</td>\n",
       "      <td>NaN</td>\n",
       "      <td>5.0</td>\n",
       "      <td>4.0</td>\n",
       "      <td>85.125083</td>\n",
       "      <td>INR</td>\n",
       "    </tr>\n",
       "    <tr>\n",
       "      <th>14803</th>\n",
       "      <td>tt0066763</td>\n",
       "      <td>Anand</td>\n",
       "      <td>Anand</td>\n",
       "      <td>1971</td>\n",
       "      <td>1971-03-12</td>\n",
       "      <td>Drama, Musical</td>\n",
       "      <td>122</td>\n",
       "      <td>India</td>\n",
       "      <td>Hindi</td>\n",
       "      <td>Hrishikesh Mukherjee</td>\n",
       "      <td>...</td>\n",
       "      <td>8.5</td>\n",
       "      <td>28121</td>\n",
       "      <td>INR 3000000</td>\n",
       "      <td>NaN</td>\n",
       "      <td>NaN</td>\n",
       "      <td>NaN</td>\n",
       "      <td>117.0</td>\n",
       "      <td>11.0</td>\n",
       "      <td>729.643568</td>\n",
       "      <td>INR</td>\n",
       "    </tr>\n",
       "    <tr>\n",
       "      <th>16928</th>\n",
       "      <td>tt0072783</td>\n",
       "      <td>Chupke Chupke</td>\n",
       "      <td>Chupke Chupke</td>\n",
       "      <td>1975</td>\n",
       "      <td>1975-04-11</td>\n",
       "      <td>Comedy, Drama, Romance</td>\n",
       "      <td>146</td>\n",
       "      <td>India</td>\n",
       "      <td>Hindi</td>\n",
       "      <td>Hrishikesh Mukherjee</td>\n",
       "      <td>...</td>\n",
       "      <td>8.3</td>\n",
       "      <td>11306</td>\n",
       "      <td>INR 991000</td>\n",
       "      <td>NaN</td>\n",
       "      <td>NaN</td>\n",
       "      <td>NaN</td>\n",
       "      <td>16.0</td>\n",
       "      <td>4.0</td>\n",
       "      <td>241.025592</td>\n",
       "      <td>INR</td>\n",
       "    </tr>\n",
       "    <tr>\n",
       "      <th>18413</th>\n",
       "      <td>tt0077451</td>\n",
       "      <td>Don</td>\n",
       "      <td>Don</td>\n",
       "      <td>1978</td>\n",
       "      <td>1978-05-12</td>\n",
       "      <td>Action, Crime, Thriller</td>\n",
       "      <td>175</td>\n",
       "      <td>India</td>\n",
       "      <td>Hindi</td>\n",
       "      <td>Chandra Barot</td>\n",
       "      <td>...</td>\n",
       "      <td>7.8</td>\n",
       "      <td>11031</td>\n",
       "      <td>INR 50000000</td>\n",
       "      <td>NaN</td>\n",
       "      <td>NaN</td>\n",
       "      <td>NaN</td>\n",
       "      <td>21.0</td>\n",
       "      <td>12.0</td>\n",
       "      <td>12160.726126</td>\n",
       "      <td>INR</td>\n",
       "    </tr>\n",
       "  </tbody>\n",
       "</table>\n",
       "<p>5 rows × 24 columns</p>\n",
       "</div>"
      ],
      "text/plain": [
       "      imdb_title_id              title original_title  year date_published  \\\n",
       "6233      tt0041619              Mahal          Mahal  1949           1949   \n",
       "7080      tt0044318  Il principe Yanez            Aan  1952     1952-07-04   \n",
       "14803     tt0066763              Anand          Anand  1971     1971-03-12   \n",
       "16928     tt0072783      Chupke Chupke  Chupke Chupke  1975     1975-04-11   \n",
       "18413     tt0077451                Don            Don  1978     1978-05-12   \n",
       "\n",
       "                          genre  duration country     language  \\\n",
       "6233     Drama, Horror, Mystery       165   India  Hindi, Urdu   \n",
       "7080   Action, Adventure, Drama       161   India        Hindi   \n",
       "14803            Drama, Musical       122   India        Hindi   \n",
       "16928    Comedy, Drama, Romance       146   India        Hindi   \n",
       "18413   Action, Crime, Thriller       175   India        Hindi   \n",
       "\n",
       "                   director  ... avg_vote  votes        budget  \\\n",
       "6233           Kamal Amrohi  ...      7.1    364   INR 4500000   \n",
       "7080           Mehboob Khan  ...      7.1    263    INR 350000   \n",
       "14803  Hrishikesh Mukherjee  ...      8.5  28121   INR 3000000   \n",
       "16928  Hrishikesh Mukherjee  ...      8.3  11306    INR 991000   \n",
       "18413         Chandra Barot  ...      7.8  11031  INR 50000000   \n",
       "\n",
       "      usa_gross_income  worlwide_gross_income  metascore reviews_from_users  \\\n",
       "6233               NaN                    NaN        NaN                7.0   \n",
       "7080               NaN                    NaN        NaN                5.0   \n",
       "14803              NaN                    NaN        NaN              117.0   \n",
       "16928              NaN                    NaN        NaN               16.0   \n",
       "18413              NaN                    NaN        NaN               21.0   \n",
       "\n",
       "      reviews_from_critics    budget_num  budget_curr  \n",
       "6233                   2.0   1094.465351          INR  \n",
       "7080                   4.0     85.125083          INR  \n",
       "14803                 11.0    729.643568          INR  \n",
       "16928                  4.0    241.025592          INR  \n",
       "18413                 12.0  12160.726126          INR  \n",
       "\n",
       "[5 rows x 24 columns]"
      ]
     },
     "execution_count": 58,
     "metadata": {},
     "output_type": "execute_result"
    }
   ],
   "source": [
    "# To check if it worked we use a mask and print 5 observations\n",
    "maskINR = movies.budget_curr == \"INR\"\n",
    "movies[maskINR].head(5)"
   ]
  },
  {
   "cell_type": "code",
   "execution_count": 59,
   "id": "2171fefd-de4f-4354-b072-0a18fd1d9291",
   "metadata": {},
   "outputs": [],
   "source": [
    "# If the budget currency is a GBP, then we divide the budget_num by 0.74\n",
    "\n",
    "movies.loc[movies.budget_curr == 'GBP','budget_num']*=(1/0.74)"
   ]
  },
  {
   "cell_type": "code",
   "execution_count": 60,
   "id": "1147ec00-b5b7-435d-91b4-1ea381139439",
   "metadata": {},
   "outputs": [
    {
     "data": {
      "text/html": [
       "<div>\n",
       "<style scoped>\n",
       "    .dataframe tbody tr th:only-of-type {\n",
       "        vertical-align: middle;\n",
       "    }\n",
       "\n",
       "    .dataframe tbody tr th {\n",
       "        vertical-align: top;\n",
       "    }\n",
       "\n",
       "    .dataframe thead th {\n",
       "        text-align: right;\n",
       "    }\n",
       "</style>\n",
       "<table border=\"1\" class=\"dataframe\">\n",
       "  <thead>\n",
       "    <tr style=\"text-align: right;\">\n",
       "      <th></th>\n",
       "      <th>imdb_title_id</th>\n",
       "      <th>title</th>\n",
       "      <th>original_title</th>\n",
       "      <th>year</th>\n",
       "      <th>date_published</th>\n",
       "      <th>genre</th>\n",
       "      <th>duration</th>\n",
       "      <th>country</th>\n",
       "      <th>language</th>\n",
       "      <th>director</th>\n",
       "      <th>...</th>\n",
       "      <th>avg_vote</th>\n",
       "      <th>votes</th>\n",
       "      <th>budget</th>\n",
       "      <th>usa_gross_income</th>\n",
       "      <th>worlwide_gross_income</th>\n",
       "      <th>metascore</th>\n",
       "      <th>reviews_from_users</th>\n",
       "      <th>reviews_from_critics</th>\n",
       "      <th>budget_num</th>\n",
       "      <th>budget_curr</th>\n",
       "    </tr>\n",
       "  </thead>\n",
       "  <tbody>\n",
       "    <tr>\n",
       "      <th>499</th>\n",
       "      <td>tt0017075</td>\n",
       "      <td>Il pensionante</td>\n",
       "      <td>The Lodger: A Story of the London Fog</td>\n",
       "      <td>1927</td>\n",
       "      <td>1927-02-14</td>\n",
       "      <td>Crime, Drama, Mystery</td>\n",
       "      <td>68</td>\n",
       "      <td>UK</td>\n",
       "      <td>None</td>\n",
       "      <td>Alfred Hitchcock</td>\n",
       "      <td>...</td>\n",
       "      <td>7.3</td>\n",
       "      <td>10024</td>\n",
       "      <td>GBP 12000</td>\n",
       "      <td>NaN</td>\n",
       "      <td>$ 83260</td>\n",
       "      <td>NaN</td>\n",
       "      <td>102.0</td>\n",
       "      <td>87.0</td>\n",
       "      <td>2.191381e+04</td>\n",
       "      <td>GBP</td>\n",
       "    </tr>\n",
       "    <tr>\n",
       "      <th>703</th>\n",
       "      <td>tt0019658</td>\n",
       "      <td>Atlantic</td>\n",
       "      <td>Atlantic</td>\n",
       "      <td>1929</td>\n",
       "      <td>1929-11-15</td>\n",
       "      <td>Drama</td>\n",
       "      <td>87</td>\n",
       "      <td>UK</td>\n",
       "      <td>English</td>\n",
       "      <td>Ewald André Dupont</td>\n",
       "      <td>...</td>\n",
       "      <td>5.5</td>\n",
       "      <td>187</td>\n",
       "      <td>GBP 2000</td>\n",
       "      <td>NaN</td>\n",
       "      <td>NaN</td>\n",
       "      <td>NaN</td>\n",
       "      <td>18.0</td>\n",
       "      <td>5.0</td>\n",
       "      <td>3.652301e+03</td>\n",
       "      <td>GBP</td>\n",
       "    </tr>\n",
       "    <tr>\n",
       "      <th>1172</th>\n",
       "      <td>tt0022268</td>\n",
       "      <td>La donna di platino</td>\n",
       "      <td>Platinum Blonde</td>\n",
       "      <td>1931</td>\n",
       "      <td>1933-11-01</td>\n",
       "      <td>Comedy, Romance</td>\n",
       "      <td>89</td>\n",
       "      <td>USA</td>\n",
       "      <td>English</td>\n",
       "      <td>Frank Capra</td>\n",
       "      <td>...</td>\n",
       "      <td>6.9</td>\n",
       "      <td>2719</td>\n",
       "      <td>GBP 600000</td>\n",
       "      <td>NaN</td>\n",
       "      <td>NaN</td>\n",
       "      <td>NaN</td>\n",
       "      <td>60.0</td>\n",
       "      <td>27.0</td>\n",
       "      <td>1.095690e+06</td>\n",
       "      <td>GBP</td>\n",
       "    </tr>\n",
       "    <tr>\n",
       "      <th>1656</th>\n",
       "      <td>tt0024473</td>\n",
       "      <td>Le sei mogli di Enrico VIII</td>\n",
       "      <td>The Private Life of Henry VIII.</td>\n",
       "      <td>1933</td>\n",
       "      <td>1933-08-17</td>\n",
       "      <td>Biography, Comedy, Drama</td>\n",
       "      <td>97</td>\n",
       "      <td>UK</td>\n",
       "      <td>English, German</td>\n",
       "      <td>Alexander Korda</td>\n",
       "      <td>...</td>\n",
       "      <td>7.1</td>\n",
       "      <td>3598</td>\n",
       "      <td>GBP 60000</td>\n",
       "      <td>NaN</td>\n",
       "      <td>NaN</td>\n",
       "      <td>NaN</td>\n",
       "      <td>46.0</td>\n",
       "      <td>28.0</td>\n",
       "      <td>1.095690e+05</td>\n",
       "      <td>GBP</td>\n",
       "    </tr>\n",
       "    <tr>\n",
       "      <th>1806</th>\n",
       "      <td>tt0025118</td>\n",
       "      <td>Gli incendiari</td>\n",
       "      <td>The Fire Raisers</td>\n",
       "      <td>1934</td>\n",
       "      <td>1934-01-22</td>\n",
       "      <td>Crime, Thriller</td>\n",
       "      <td>77</td>\n",
       "      <td>UK</td>\n",
       "      <td>English</td>\n",
       "      <td>Michael Powell</td>\n",
       "      <td>...</td>\n",
       "      <td>5.7</td>\n",
       "      <td>152</td>\n",
       "      <td>GBP 12000</td>\n",
       "      <td>NaN</td>\n",
       "      <td>NaN</td>\n",
       "      <td>NaN</td>\n",
       "      <td>5.0</td>\n",
       "      <td>4.0</td>\n",
       "      <td>2.191381e+04</td>\n",
       "      <td>GBP</td>\n",
       "    </tr>\n",
       "  </tbody>\n",
       "</table>\n",
       "<p>5 rows × 24 columns</p>\n",
       "</div>"
      ],
      "text/plain": [
       "     imdb_title_id                        title  \\\n",
       "499      tt0017075               Il pensionante   \n",
       "703      tt0019658                     Atlantic   \n",
       "1172     tt0022268          La donna di platino   \n",
       "1656     tt0024473  Le sei mogli di Enrico VIII   \n",
       "1806     tt0025118               Gli incendiari   \n",
       "\n",
       "                             original_title  year date_published  \\\n",
       "499   The Lodger: A Story of the London Fog  1927     1927-02-14   \n",
       "703                                Atlantic  1929     1929-11-15   \n",
       "1172                        Platinum Blonde  1931     1933-11-01   \n",
       "1656        The Private Life of Henry VIII.  1933     1933-08-17   \n",
       "1806                       The Fire Raisers  1934     1934-01-22   \n",
       "\n",
       "                         genre  duration country         language  \\\n",
       "499      Crime, Drama, Mystery        68      UK             None   \n",
       "703                      Drama        87      UK          English   \n",
       "1172           Comedy, Romance        89     USA          English   \n",
       "1656  Biography, Comedy, Drama        97      UK  English, German   \n",
       "1806           Crime, Thriller        77      UK          English   \n",
       "\n",
       "                director  ... avg_vote  votes      budget usa_gross_income  \\\n",
       "499     Alfred Hitchcock  ...      7.3  10024   GBP 12000              NaN   \n",
       "703   Ewald André Dupont  ...      5.5    187    GBP 2000              NaN   \n",
       "1172         Frank Capra  ...      6.9   2719  GBP 600000              NaN   \n",
       "1656     Alexander Korda  ...      7.1   3598   GBP 60000              NaN   \n",
       "1806      Michael Powell  ...      5.7    152   GBP 12000              NaN   \n",
       "\n",
       "      worlwide_gross_income  metascore reviews_from_users  \\\n",
       "499                 $ 83260        NaN              102.0   \n",
       "703                     NaN        NaN               18.0   \n",
       "1172                    NaN        NaN               60.0   \n",
       "1656                    NaN        NaN               46.0   \n",
       "1806                    NaN        NaN                5.0   \n",
       "\n",
       "     reviews_from_critics    budget_num  budget_curr  \n",
       "499                  87.0  2.191381e+04          GBP  \n",
       "703                   5.0  3.652301e+03          GBP  \n",
       "1172                 27.0  1.095690e+06          GBP  \n",
       "1656                 28.0  1.095690e+05          GBP  \n",
       "1806                  4.0  2.191381e+04          GBP  \n",
       "\n",
       "[5 rows x 24 columns]"
      ]
     },
     "execution_count": 60,
     "metadata": {},
     "output_type": "execute_result"
    }
   ],
   "source": [
    "# To check if it worked we use a mask and print 5 observations\n",
    "maskGBP = movies.budget_curr == \"GBP\"\n",
    "movies[maskGBP].head(5)"
   ]
  },
  {
   "cell_type": "code",
   "execution_count": 54,
   "id": "4b4eb6d6-774e-4ec8-a042-59feaf961821",
   "metadata": {},
   "outputs": [],
   "source": [
    "# If the budget currency is a CAD, then we divide the budget_num by 1.25\n",
    "\n",
    "movies.loc[movies.budget_curr == 'CAD','budget_num']*=(1/1.25)"
   ]
  },
  {
   "cell_type": "code",
   "execution_count": 61,
   "id": "ec851e79-cbab-4095-b958-829c26a1c32c",
   "metadata": {},
   "outputs": [
    {
     "data": {
      "text/html": [
       "<div>\n",
       "<style scoped>\n",
       "    .dataframe tbody tr th:only-of-type {\n",
       "        vertical-align: middle;\n",
       "    }\n",
       "\n",
       "    .dataframe tbody tr th {\n",
       "        vertical-align: top;\n",
       "    }\n",
       "\n",
       "    .dataframe thead th {\n",
       "        text-align: right;\n",
       "    }\n",
       "</style>\n",
       "<table border=\"1\" class=\"dataframe\">\n",
       "  <thead>\n",
       "    <tr style=\"text-align: right;\">\n",
       "      <th></th>\n",
       "      <th>imdb_title_id</th>\n",
       "      <th>title</th>\n",
       "      <th>original_title</th>\n",
       "      <th>year</th>\n",
       "      <th>date_published</th>\n",
       "      <th>genre</th>\n",
       "      <th>duration</th>\n",
       "      <th>country</th>\n",
       "      <th>language</th>\n",
       "      <th>director</th>\n",
       "      <th>...</th>\n",
       "      <th>avg_vote</th>\n",
       "      <th>votes</th>\n",
       "      <th>budget</th>\n",
       "      <th>usa_gross_income</th>\n",
       "      <th>worlwide_gross_income</th>\n",
       "      <th>metascore</th>\n",
       "      <th>reviews_from_users</th>\n",
       "      <th>reviews_from_critics</th>\n",
       "      <th>budget_num</th>\n",
       "      <th>budget_curr</th>\n",
       "    </tr>\n",
       "  </thead>\n",
       "  <tbody>\n",
       "    <tr>\n",
       "      <th>5724</th>\n",
       "      <td>tt0039986</td>\n",
       "      <td>Il passato è sempre presente</td>\n",
       "      <td>Whispering City</td>\n",
       "      <td>1947</td>\n",
       "      <td>1947-11-20</td>\n",
       "      <td>Crime, Drama</td>\n",
       "      <td>98</td>\n",
       "      <td>Canada</td>\n",
       "      <td>English</td>\n",
       "      <td>Fyodor Otsep</td>\n",
       "      <td>...</td>\n",
       "      <td>6.3</td>\n",
       "      <td>276</td>\n",
       "      <td>CAD 750000</td>\n",
       "      <td>NaN</td>\n",
       "      <td>NaN</td>\n",
       "      <td>NaN</td>\n",
       "      <td>16.0</td>\n",
       "      <td>6.0</td>\n",
       "      <td>600000.0</td>\n",
       "      <td>CAD</td>\n",
       "    </tr>\n",
       "    <tr>\n",
       "      <th>7335</th>\n",
       "      <td>tt0045027</td>\n",
       "      <td>La petite Aurore l'enfant martyre</td>\n",
       "      <td>La petite Aurore l'enfant martyre</td>\n",
       "      <td>1952</td>\n",
       "      <td>1952-04-25</td>\n",
       "      <td>Biography, Drama</td>\n",
       "      <td>102</td>\n",
       "      <td>Canada</td>\n",
       "      <td>French</td>\n",
       "      <td>Jean-Yves Bigras</td>\n",
       "      <td>...</td>\n",
       "      <td>3.7</td>\n",
       "      <td>282</td>\n",
       "      <td>CAD 75000</td>\n",
       "      <td>NaN</td>\n",
       "      <td>NaN</td>\n",
       "      <td>NaN</td>\n",
       "      <td>10.0</td>\n",
       "      <td>1.0</td>\n",
       "      <td>60000.0</td>\n",
       "      <td>CAD</td>\n",
       "    </tr>\n",
       "    <tr>\n",
       "      <th>7800</th>\n",
       "      <td>tt0046434</td>\n",
       "      <td>Tit Coq</td>\n",
       "      <td>Tit Coq</td>\n",
       "      <td>1953</td>\n",
       "      <td>1953-02-20</td>\n",
       "      <td>Drama, Romance, War</td>\n",
       "      <td>104</td>\n",
       "      <td>Canada, France</td>\n",
       "      <td>French</td>\n",
       "      <td>René Delacroix, Gratien Gélinas</td>\n",
       "      <td>...</td>\n",
       "      <td>7.0</td>\n",
       "      <td>155</td>\n",
       "      <td>CAD 106000</td>\n",
       "      <td>NaN</td>\n",
       "      <td>NaN</td>\n",
       "      <td>NaN</td>\n",
       "      <td>1.0</td>\n",
       "      <td>2.0</td>\n",
       "      <td>84800.0</td>\n",
       "      <td>CAD</td>\n",
       "    </tr>\n",
       "    <tr>\n",
       "      <th>9237</th>\n",
       "      <td>tt0050792</td>\n",
       "      <td>Oedipus Rex</td>\n",
       "      <td>Oedipus Rex</td>\n",
       "      <td>1957</td>\n",
       "      <td>1957-01-06</td>\n",
       "      <td>Drama</td>\n",
       "      <td>87</td>\n",
       "      <td>Canada</td>\n",
       "      <td>English</td>\n",
       "      <td>Tyrone Guthrie, Abraham Polonsky</td>\n",
       "      <td>...</td>\n",
       "      <td>6.8</td>\n",
       "      <td>264</td>\n",
       "      <td>CAD 200000</td>\n",
       "      <td>NaN</td>\n",
       "      <td>NaN</td>\n",
       "      <td>NaN</td>\n",
       "      <td>6.0</td>\n",
       "      <td>7.0</td>\n",
       "      <td>160000.0</td>\n",
       "      <td>CAD</td>\n",
       "    </tr>\n",
       "    <tr>\n",
       "      <th>11728</th>\n",
       "      <td>tt0057725</td>\n",
       "      <td>À tout prendre</td>\n",
       "      <td>À tout prendre</td>\n",
       "      <td>1963</td>\n",
       "      <td>1964-05-15</td>\n",
       "      <td>Drama</td>\n",
       "      <td>99</td>\n",
       "      <td>France, Canada</td>\n",
       "      <td>French</td>\n",
       "      <td>Claude Jutra</td>\n",
       "      <td>...</td>\n",
       "      <td>7.0</td>\n",
       "      <td>311</td>\n",
       "      <td>CAD 60000</td>\n",
       "      <td>NaN</td>\n",
       "      <td>NaN</td>\n",
       "      <td>NaN</td>\n",
       "      <td>2.0</td>\n",
       "      <td>NaN</td>\n",
       "      <td>48000.0</td>\n",
       "      <td>CAD</td>\n",
       "    </tr>\n",
       "  </tbody>\n",
       "</table>\n",
       "<p>5 rows × 24 columns</p>\n",
       "</div>"
      ],
      "text/plain": [
       "      imdb_title_id                              title  \\\n",
       "5724      tt0039986       Il passato è sempre presente   \n",
       "7335      tt0045027  La petite Aurore l'enfant martyre   \n",
       "7800      tt0046434                            Tit Coq   \n",
       "9237      tt0050792                        Oedipus Rex   \n",
       "11728     tt0057725                     À tout prendre   \n",
       "\n",
       "                          original_title  year date_published  \\\n",
       "5724                     Whispering City  1947     1947-11-20   \n",
       "7335   La petite Aurore l'enfant martyre  1952     1952-04-25   \n",
       "7800                             Tit Coq  1953     1953-02-20   \n",
       "9237                         Oedipus Rex  1957     1957-01-06   \n",
       "11728                     À tout prendre  1963     1964-05-15   \n",
       "\n",
       "                     genre  duration         country language  \\\n",
       "5724          Crime, Drama        98          Canada  English   \n",
       "7335      Biography, Drama       102          Canada   French   \n",
       "7800   Drama, Romance, War       104  Canada, France   French   \n",
       "9237                 Drama        87          Canada  English   \n",
       "11728                Drama        99  France, Canada   French   \n",
       "\n",
       "                               director  ... avg_vote votes      budget  \\\n",
       "5724                       Fyodor Otsep  ...      6.3   276  CAD 750000   \n",
       "7335                   Jean-Yves Bigras  ...      3.7   282   CAD 75000   \n",
       "7800    René Delacroix, Gratien Gélinas  ...      7.0   155  CAD 106000   \n",
       "9237   Tyrone Guthrie, Abraham Polonsky  ...      6.8   264  CAD 200000   \n",
       "11728                      Claude Jutra  ...      7.0   311   CAD 60000   \n",
       "\n",
       "      usa_gross_income  worlwide_gross_income  metascore reviews_from_users  \\\n",
       "5724               NaN                    NaN        NaN               16.0   \n",
       "7335               NaN                    NaN        NaN               10.0   \n",
       "7800               NaN                    NaN        NaN                1.0   \n",
       "9237               NaN                    NaN        NaN                6.0   \n",
       "11728              NaN                    NaN        NaN                2.0   \n",
       "\n",
       "      reviews_from_critics budget_num  budget_curr  \n",
       "5724                   6.0   600000.0          CAD  \n",
       "7335                   1.0    60000.0          CAD  \n",
       "7800                   2.0    84800.0          CAD  \n",
       "9237                   7.0   160000.0          CAD  \n",
       "11728                  NaN    48000.0          CAD  \n",
       "\n",
       "[5 rows x 24 columns]"
      ]
     },
     "execution_count": 61,
     "metadata": {},
     "output_type": "execute_result"
    }
   ],
   "source": [
    "# To check if it worked we use a mask and print 5 observations\n",
    "maskCAD = movies.budget_curr == \"CAD\"\n",
    "movies[maskCAD].head(5)"
   ]
  },
  {
   "cell_type": "markdown",
   "id": "d44a1f27-f279-47b9-9150-e68c00802ff1",
   "metadata": {},
   "source": [
    "## Semantic analysis\n",
    "\n",
    "The semantic analysis is structured into three sections:\n",
    "#### Part 1\n",
    "The following exploratory questions are raised:\n",
    "\n",
    "1. What are the most common genres within the dataset? \n",
    "2. How are the scores distributed throughout the dataset? (Both users' and critics' scores)\n",
    "3. In which year are the largest number of films published?\n",
    "4. What country are most of the films from?\n",
    "\n",
    "#### Part 2\n",
    "Next, the following hypotheses are proposed to be validated or rejected:\n",
    "* **_Hypothesis 1_** : Users' ratings will be similar to those of the critics (average vote vs metascore).\n",
    "* **_Hypothesis 2_** : The highest scoring films will be those with the largest budgets.\n",
    "\n",
    "#### Part 3\n",
    "Subsequently, the correlation between the films with the highest average vote and the rest of the variables is analysed to answer the question:\n",
    "**What makes a film successful?**"
   ]
  },
  {
   "cell_type": "markdown",
   "id": "0da73ea5-d437-498b-ba57-c02127549df8",
   "metadata": {},
   "source": [
    "### Part 1\n",
    "**1. What are the most ?**"
   ]
  },
  {
   "cell_type": "code",
   "execution_count": 11,
   "id": "e849f70d-b89d-412c-bced-73bd1cf2c6ff",
   "metadata": {},
   "outputs": [
    {
     "data": {
      "text/plain": [
       "Drama                          12543\n",
       "Comedy                          7693\n",
       "Comedy, Drama                   4039\n",
       "Drama, Romance                  3455\n",
       "Comedy, Romance                 2508\n",
       "                               ...  \n",
       "Family, Fantasy, Adventure         1\n",
       "Fantasy, Mystery, Action           1\n",
       "Sci-Fi, Animation, Action          1\n",
       "Animation, Biography, Crime        1\n",
       "Music, War, Western                1\n",
       "Name: genre, Length: 1257, dtype: int64"
      ]
     },
     "execution_count": 11,
     "metadata": {},
     "output_type": "execute_result"
    }
   ],
   "source": [
    "movies.genre.value_counts()"
   ]
  },
  {
   "cell_type": "markdown",
   "id": "a7082dcf-38a0-4d51-99f0-efd2ed185945",
   "metadata": {},
   "source": [
    "The largest number of movies within the dataset are from the drama category, followed by comedy and a combination of both genres. Now, we want to visualize this information in a circular diagram considering the top 5 genres and visualizing within the diagram the percentages corresponding to each genre."
   ]
  },
  {
   "cell_type": "code",
   "execution_count": 56,
   "id": "20812bfc-3cdd-4b24-ab87-fb8b0576d52e",
   "metadata": {},
   "outputs": [
    {
     "data": {
      "image/png": "[encoded data removed]",
      "text/plain": [
       "<Figure size 576x396 with 1 Axes>"
      ]
     },
     "metadata": {},
     "output_type": "display_data"
    }
   ],
   "source": [
    "_=movies.genre.value_counts().head(5).plot.pie(title=\"Movies published by genre\", autopct='%1.1f%%')"
   ]
  },
  {
   "cell_type": "markdown",
   "id": "e8818879-82cd-49b3-b2cd-75cda3e3270b",
   "metadata": {},
   "source": [
    "**2. How are the notes distributed throughout the dataset?**\n",
    "* Users' notes"
   ]
  },
  {
   "cell_type": "code",
   "execution_count": 7,
   "id": "d85eaccb-0080-4e70-b5dc-955e2bc4dc2c",
   "metadata": {},
   "outputs": [
    {
     "data": {
      "image/png": "[encoded data removed]",
      "text/plain": [
       "<Figure size 576x396 with 1 Axes>"
      ]
     },
     "metadata": {},
     "output_type": "display_data"
    }
   ],
   "source": [
    "_=movies.avg_vote.hist()"
   ]
  },
  {
   "cell_type": "code",
   "execution_count": 14,
   "id": "e1bf4ce6-8ec4-4ddf-908a-2a6f6ad37dcf",
   "metadata": {},
   "outputs": [
    {
     "data": {
      "text/plain": [
       "5.898655873274613"
      ]
     },
     "execution_count": 14,
     "metadata": {},
     "output_type": "execute_result"
    }
   ],
   "source": [
    "movies.avg_vote.mean()"
   ]
  },
  {
   "cell_type": "code",
   "execution_count": 15,
   "id": "3745a268-ef91-410b-b8c8-1e6a536799ec",
   "metadata": {},
   "outputs": [
    {
     "data": {
      "text/plain": [
       "0    6.4\n",
       "dtype: float64"
      ]
     },
     "execution_count": 15,
     "metadata": {},
     "output_type": "execute_result"
    }
   ],
   "source": [
    "movies.avg_vote.mode()"
   ]
  },
  {
   "cell_type": "markdown",
   "id": "f9f5b397-d6b4-41d5-9077-98b34053491a",
   "metadata": {},
   "source": [
    "The most repeated users' score throughout the dataset is 6.4. The average score is 5.89, however from the histogram it can be seen that most of the films have scores between 6 and 8 so the mean value is punished by low scores."
   ]
  },
  {
   "cell_type": "code",
   "execution_count": 16,
   "id": "739ac5ca-7386-4de8-9d85-b5b840b20d1d",
   "metadata": {},
   "outputs": [
    {
     "data": {
      "text/plain": [
       "9.9"
      ]
     },
     "execution_count": 16,
     "metadata": {},
     "output_type": "execute_result"
    }
   ],
   "source": [
    "movies.avg_vote.max()"
   ]
  },
  {
   "cell_type": "markdown",
   "id": "1888dfa9-0fe6-4c2c-8c20-a8df85558416",
   "metadata": {},
   "source": [
    "The highest users' score of a film is 9.9."
   ]
  },
  {
   "cell_type": "markdown",
   "id": "f4256bec-d85c-49d2-8cfc-6f7809f9fa73",
   "metadata": {},
   "source": [
    "* Critics' score"
   ]
  },
  {
   "cell_type": "code",
   "execution_count": 11,
   "id": "08c40fee-e650-4d63-823c-9a2d0f0d4d90",
   "metadata": {},
   "outputs": [
    {
     "data": {
      "image/png": "[encoded data removed]",
      "text/plain": [
       "<Figure size 576x396 with 1 Axes>"
      ]
     },
     "metadata": {},
     "output_type": "display_data"
    }
   ],
   "source": [
    "_=movies.metascore.hist()"
   ]
  },
  {
   "cell_type": "code",
   "execution_count": 22,
   "id": "d923a054-2654-4f28-8350-bdc93b02321d",
   "metadata": {},
   "outputs": [
    {
     "data": {
      "text/plain": [
       "5.589688087185243"
      ]
     },
     "execution_count": 22,
     "metadata": {},
     "output_type": "execute_result"
    }
   ],
   "source": [
    "movies.metascore.mean()"
   ]
  },
  {
   "cell_type": "code",
   "execution_count": 23,
   "id": "de17c2bd-9454-4472-af34-2dd913a7412d",
   "metadata": {},
   "outputs": [
    {
     "data": {
      "text/plain": [
       "0    6.4\n",
       "dtype: float64"
      ]
     },
     "execution_count": 23,
     "metadata": {},
     "output_type": "execute_result"
    }
   ],
   "source": [
    "movies.metascore.mode()"
   ]
  },
  {
   "cell_type": "markdown",
   "id": "1d53dec0-7327-4ca5-b92b-d61fe2b05748",
   "metadata": {},
   "source": [
    "The median between avg_vote (users' vote) and metascore (critics' vote) are similar (approximate difference of 0.3) and the most frequent note assigned by users and by critics is 6.4."
   ]
  },
  {
   "cell_type": "markdown",
   "id": "c4bdf0c0-1b04-4866-a5b1-81cea5518637",
   "metadata": {},
   "source": [
    "**3. In which year are the largest number of films published?**"
   ]
  },
  {
   "cell_type": "code",
   "execution_count": 22,
   "id": "a6d67915-b3f2-42d0-9cc4-02ee07e63241",
   "metadata": {},
   "outputs": [
    {
     "data": {
      "text/plain": [
       "1894.0"
      ]
     },
     "execution_count": 22,
     "metadata": {},
     "output_type": "execute_result"
    }
   ],
   "source": [
    "movies.year.min()"
   ]
  },
  {
   "cell_type": "code",
   "execution_count": 49,
   "id": "1810fe25-697f-4a22-b977-f6dffec63097",
   "metadata": {},
   "outputs": [
    {
     "data": {
      "text/plain": [
       "2020.0"
      ]
     },
     "execution_count": 49,
     "metadata": {},
     "output_type": "execute_result"
    }
   ],
   "source": [
    "movies.year.max()"
   ]
  },
  {
   "cell_type": "code",
   "execution_count": 55,
   "id": "2faa5e90-2ae4-4aeb-9015-b23482a74f25",
   "metadata": {},
   "outputs": [
    {
     "data": {
      "image/png": "[encoded data removed]",
      "text/plain": [
       "<Figure size 576x396 with 1 Axes>"
      ]
     },
     "metadata": {},
     "output_type": "display_data"
    }
   ],
   "source": [
    "_=movies.year.value_counts().head(15).plot.bar(title=\"Amount of films published by year\")"
   ]
  },
  {
   "cell_type": "code",
   "execution_count": 58,
   "id": "c783da01-7bcc-4a27-b977-75da1cdd4853",
   "metadata": {},
   "outputs": [
    {
     "data": {
      "text/plain": [
       "2017.0    3329\n",
       "2018.0    3257\n",
       "2016.0    3138\n",
       "2015.0    2977\n",
       "2014.0    2942\n",
       "          ... \n",
       "1913.0      13\n",
       "1912.0       5\n",
       "1911.0       5\n",
       "1894.0       1\n",
       "1906.0       1\n",
       "Name: year, Length: 112, dtype: int64"
      ]
     },
     "execution_count": 58,
     "metadata": {},
     "output_type": "execute_result"
    }
   ],
   "source": [
    "movies.year.value_counts()"
   ]
  },
  {
   "cell_type": "markdown",
   "id": "889a7014-1046-4bd1-902c-dbd637efb0a9",
   "metadata": {},
   "source": [
    "2017 is the year with the biggest amount of films published (a total of 3329)."
   ]
  },
  {
   "cell_type": "markdown",
   "id": "866a2369-95ae-4894-b636-9d9b23c29d14",
   "metadata": {},
   "source": [
    "**4. What country are most of the films from?**"
   ]
  },
  {
   "cell_type": "code",
   "execution_count": 25,
   "id": "dd8e9416-79a9-49cd-8087-6b5201d98fcb",
   "metadata": {},
   "outputs": [
    {
     "data": {
      "image/png": "[encoded data removed]",
      "text/plain": [
       "<Figure size 936x432 with 1 Axes>"
      ]
     },
     "metadata": {},
     "output_type": "display_data"
    }
   ],
   "source": [
    "_=movies.country.value_counts().head(15).plot.barh(title=\"Number of films per country\",figsize=(13,6))"
   ]
  },
  {
   "cell_type": "code",
   "execution_count": 26,
   "id": "641a5dfb-6ad6-4306-80bd-9b040556d460",
   "metadata": {},
   "outputs": [
    {
     "data": {
      "text/plain": [
       "USA             28511\n",
       "India            6065\n",
       "UK               4111\n",
       "Japan            3077\n",
       "France           3055\n",
       "Italy            2444\n",
       "Canada           1802\n",
       "Germany          1396\n",
       "Turkey           1351\n",
       "Hong Kong        1239\n",
       "Spain            1225\n",
       "South Korea      1103\n",
       "Russia            802\n",
       "Australia         785\n",
       "Soviet Union      766\n",
       "Name: country, dtype: int64"
      ]
     },
     "execution_count": 26,
     "metadata": {},
     "output_type": "execute_result"
    }
   ],
   "source": [
    "movies.country.value_counts().head(15)"
   ]
  },
  {
   "cell_type": "markdown",
   "id": "84e54ba0-e625-4137-8028-51a61c5543a4",
   "metadata": {},
   "source": [
    "Most of the films are produced by USA, followed by India and UK."
   ]
  },
  {
   "cell_type": "markdown",
   "id": "4055dfe0-2695-4c91-a9b6-17cc29c2a4af",
   "metadata": {},
   "source": [
    "### Part 2\n",
    "**_Hipothesis 1_** : Users' ratings will be similar to those of the critics (average vote vs metascore)."
   ]
  },
  {
   "cell_type": "markdown",
   "id": "efad0bed-35d1-4fb9-b852-0ad135b5e1fc",
   "metadata": {},
   "source": [
    "First, we analyse the amount of reviews. It is expected that there will be more reviews from users than from critics."
   ]
  },
  {
   "cell_type": "code",
   "execution_count": 27,
   "id": "74805bb0-e241-4e17-a515-541ef29e116a",
   "metadata": {},
   "outputs": [
    {
     "data": {
      "text/plain": [
       "10472.0"
      ]
     },
     "execution_count": 27,
     "metadata": {},
     "output_type": "execute_result"
    }
   ],
   "source": [
    "movies.reviews_from_users.max()"
   ]
  },
  {
   "cell_type": "code",
   "execution_count": 28,
   "id": "b6cd9337-745b-424f-abf0-064d16f9e7b6",
   "metadata": {},
   "outputs": [
    {
     "data": {
      "text/plain": [
       "999.0"
      ]
     },
     "execution_count": 28,
     "metadata": {},
     "output_type": "execute_result"
    }
   ],
   "source": [
    "movies.reviews_from_critics.max()"
   ]
  },
  {
   "cell_type": "code",
   "execution_count": 30,
   "id": "1489462b-cded-492c-b10b-3096c416ff1d",
   "metadata": {},
   "outputs": [
    {
     "data": {
      "image/png": "[encoded data removed]",
      "text/plain": [
       "<Figure size 576x396 with 1 Axes>"
      ]
     },
     "metadata": {},
     "output_type": "display_data"
    }
   ],
   "source": [
    "_=movies.plot.scatter(x=\"reviews_from_users\",y=\"reviews_from_critics\",xlim=(0,3000))"
   ]
  },
  {
   "cell_type": "markdown",
   "id": "ca4cb6ce-0d19-40f0-b91b-dcc27b6a4133",
   "metadata": {},
   "source": [
    "There are indeed, 9473 more reviews from users than from critics. However, according to the scatter plot, As more critics rate the film, more users rate the film. This deduction makes sense, since a well graded movie by critics generates attention from users and viceversa."
   ]
  },
  {
   "cell_type": "code",
   "execution_count": 13,
   "id": "1c751134-a0a6-4e04-af60-8bc783e304af",
   "metadata": {},
   "outputs": [
    {
     "data": {
      "text/plain": [
       "<AxesSubplot:>"
      ]
     },
     "execution_count": 13,
     "metadata": {},
     "output_type": "execute_result"
    },
    {
     "data": {
      "image/png": "[encoded data removed]",
      "text/plain": [
       "<Figure size 576x396 with 1 Axes>"
      ]
     },
     "metadata": {},
     "output_type": "display_data"
    }
   ],
   "source": [
    "#To compare on a same graph the average score and metascore\n",
    "meta_avg = [\"avg_vote\",\"metascore\"]\n",
    "movies[meta_avg].plot.box()"
   ]
  },
  {
   "cell_type": "markdown",
   "id": "650ef423-2dfc-4be5-8141-0ad1873e4f18",
   "metadata": {},
   "source": [
    "Few deductions from the boxplot:\n",
    "* According to this graph, there is a greater variability for metascore (critics' votes). \n",
    "* There are more outliers for the users' vote, it would seem that users rarely hate a movie (rate it less than 3/10), but it's more common for a user to hate a movie than for them to extremely love it. \n",
    "* The medians are similar and the notches in the boxplots overlap, so we can conclude with 95% confidence that the medians do not differ. **This deduction contributes to the validation of hipothesis 1.**"
   ]
  },
  {
   "cell_type": "code",
   "execution_count": 17,
   "id": "0fbb7de8-cbb3-4342-b58b-3e0ad61ed5a7",
   "metadata": {},
   "outputs": [
    {
     "data": {
      "image/png": "[encoded data removed]",
      "text/plain": [
       "<Figure size 576x396 with 1 Axes>"
      ]
     },
     "metadata": {},
     "output_type": "display_data"
    }
   ],
   "source": [
    "# Tried to make it prettier but it reads all avg votes\n",
    "sns.boxplot(x='avg_vote',y='metascore',data=movies)\n",
    "plt.savefig('seaborn_basic_area_diagnosis.png')"
   ]
  },
  {
   "cell_type": "code",
   "execution_count": 67,
   "id": "36f10a95-dd49-4301-899b-40a0f1e6b49b",
   "metadata": {},
   "outputs": [
    {
     "data": {
      "image/png": "[encoded data removed]",
      "text/plain": [
       "<Figure size 576x396 with 1 Axes>"
      ]
     },
     "metadata": {},
     "output_type": "display_data"
    }
   ],
   "source": [
    "_=movies.plot.scatter(x=\"avg_vote\",y=\"metascore\")"
   ]
  },
  {
   "cell_type": "markdown",
   "id": "1ca32dbc-3df3-4597-84ac-4bfe447900fc",
   "metadata": {},
   "source": [
    "There is a clear positive correlation between the users' score (avg_vote) and the critics' score (metascore). This result means that the users and the critics will tend to agree on the rating of the movies, the higher the users' rating, the higher we can expect the critics' rating to be. \n",
    "**The first hypothesis is therefore validated.**"
   ]
  },
  {
   "cell_type": "markdown",
   "id": "8dcda954-41a8-49a0-9bc7-415e56abc09c",
   "metadata": {},
   "source": [
    "**_Hipothesis 2_** : The highest scoring films will be those with the largest budgets."
   ]
  },
  {
   "cell_type": "code",
   "execution_count": 70,
   "id": "dbd71712-3c24-4578-ad5a-6aae69e1b053",
   "metadata": {},
   "outputs": [
    {
     "name": "stdout",
     "output_type": "stream",
     "text": [
      "<class 'pandas.core.frame.DataFrame'>\n",
      "RangeIndex: 85855 entries, 0 to 85854\n",
      "Data columns (total 25 columns):\n",
      " #   Column                 Non-Null Count  Dtype  \n",
      "---  ------                 --------------  -----  \n",
      " 0   imdb_title_id          85855 non-null  object \n",
      " 1   title                  85855 non-null  object \n",
      " 2   original_title         85855 non-null  object \n",
      " 3   year                   85854 non-null  float64\n",
      " 4   date_published         85855 non-null  object \n",
      " 5   genre                  85855 non-null  object \n",
      " 6   duration               85855 non-null  int64  \n",
      " 7   country                85791 non-null  object \n",
      " 8   language               85022 non-null  object \n",
      " 9   director               85768 non-null  object \n",
      " 10  writer                 84283 non-null  object \n",
      " 11  production_company     81400 non-null  object \n",
      " 12  actors                 85786 non-null  object \n",
      " 13  description            83740 non-null  object \n",
      " 14  avg_vote               85855 non-null  float64\n",
      " 15  votes                  85855 non-null  int64  \n",
      " 16  budget                 23710 non-null  object \n",
      " 17  usa_gross_income       15326 non-null  object \n",
      " 18  worlwide_gross_income  31016 non-null  object \n",
      " 19  metascore              13305 non-null  float64\n",
      " 20  reviews_from_users     78258 non-null  float64\n",
      " 21  reviews_from_critics   74058 non-null  float64\n",
      " 22  rango                  69968 non-null  float64\n",
      " 23  budget_num             23710 non-null  float64\n",
      " 24  budget_curr            23710 non-null  object \n",
      "dtypes: float64(7), int64(2), object(16)\n",
      "memory usage: 16.4+ MB\n"
     ]
    }
   ],
   "source": [
    "movies.info()"
   ]
  },
  {
   "cell_type": "markdown",
   "id": "ab80806c-30be-46dc-9511-55bfee99ee68",
   "metadata": {},
   "source": [
    "Due to the fact that hypothesis 1 was validated, in order to consider a movie as successful, it doesn't matter if we chose the \"metascore\" (critics' score) or the \"average score\" (users' score). Since there are 85855 non-null observations for \"average score\" where as there are only 13305 non-null observations for \"metascore\", it is preferred to analyze the \"average vote\" in order to determine the success of a film. Therefore, as of this point, the variable avg_votes is employed to determine a film's success."
   ]
  },
  {
   "cell_type": "code",
   "execution_count": 72,
   "id": "ddb1eb3f-8fa2-4aff-b1a4-77f538292f80",
   "metadata": {},
   "outputs": [
    {
     "data": {
      "text/plain": [
       "0.99    8.2\n",
       "Name: avg_vote, dtype: float64"
      ]
     },
     "execution_count": 72,
     "metadata": {},
     "output_type": "execute_result"
    }
   ],
   "source": [
    "movies.avg_vote.quantile([0.99])"
   ]
  },
  {
   "cell_type": "markdown",
   "id": "903585ea-a830-4d7f-811d-8e6cbadb5971",
   "metadata": {},
   "source": [
    "The most succesfull movies will be the ones superior to the quartile 0.99. Also, for the budget we will only consider the top 5 currencies: US dollar, EUR, INR, GBP and CAD. So we proceed to implement two masks."
   ]
  },
  {
   "cell_type": "code",
   "execution_count": 74,
   "id": "1f67da63-4c85-4961-a7fd-dfc9a500bbca",
   "metadata": {},
   "outputs": [
    {
     "data": {
      "text/html": [
       "<div>\n",
       "<style scoped>\n",
       "    .dataframe tbody tr th:only-of-type {\n",
       "        vertical-align: middle;\n",
       "    }\n",
       "\n",
       "    .dataframe tbody tr th {\n",
       "        vertical-align: top;\n",
       "    }\n",
       "\n",
       "    .dataframe thead th {\n",
       "        text-align: right;\n",
       "    }\n",
       "</style>\n",
       "<table border=\"1\" class=\"dataframe\">\n",
       "  <thead>\n",
       "    <tr style=\"text-align: right;\">\n",
       "      <th></th>\n",
       "      <th>imdb_title_id</th>\n",
       "      <th>title</th>\n",
       "      <th>original_title</th>\n",
       "      <th>year</th>\n",
       "      <th>date_published</th>\n",
       "      <th>genre</th>\n",
       "      <th>duration</th>\n",
       "      <th>country</th>\n",
       "      <th>language</th>\n",
       "      <th>director</th>\n",
       "      <th>...</th>\n",
       "      <th>avg_vote</th>\n",
       "      <th>votes</th>\n",
       "      <th>budget</th>\n",
       "      <th>usa_gross_income</th>\n",
       "      <th>worlwide_gross_income</th>\n",
       "      <th>metascore</th>\n",
       "      <th>reviews_from_users</th>\n",
       "      <th>reviews_from_critics</th>\n",
       "      <th>budget_num</th>\n",
       "      <th>budget_curr</th>\n",
       "    </tr>\n",
       "  </thead>\n",
       "  <tbody>\n",
       "    <tr>\n",
       "      <th>251</th>\n",
       "      <td>tt0012349</td>\n",
       "      <td>Il monello</td>\n",
       "      <td>The Kid</td>\n",
       "      <td>1921</td>\n",
       "      <td>1923-11-26</td>\n",
       "      <td>Comedy, Drama, Family</td>\n",
       "      <td>68</td>\n",
       "      <td>USA</td>\n",
       "      <td>English, None</td>\n",
       "      <td>Charles Chaplin</td>\n",
       "      <td>...</td>\n",
       "      <td>8.3</td>\n",
       "      <td>109038</td>\n",
       "      <td>$ 250000</td>\n",
       "      <td>NaN</td>\n",
       "      <td>$ 26916</td>\n",
       "      <td>NaN</td>\n",
       "      <td>173.0</td>\n",
       "      <td>105.0</td>\n",
       "      <td>2.500000e+05</td>\n",
       "      <td>$</td>\n",
       "    </tr>\n",
       "    <tr>\n",
       "      <th>1048</th>\n",
       "      <td>tt0021749</td>\n",
       "      <td>Luci della città</td>\n",
       "      <td>City Lights</td>\n",
       "      <td>1931</td>\n",
       "      <td>1931-04-02</td>\n",
       "      <td>Comedy, Drama, Romance</td>\n",
       "      <td>87</td>\n",
       "      <td>USA</td>\n",
       "      <td>English</td>\n",
       "      <td>Charles Chaplin</td>\n",
       "      <td>...</td>\n",
       "      <td>8.5</td>\n",
       "      <td>162668</td>\n",
       "      <td>$ 1500000</td>\n",
       "      <td>$ 19181</td>\n",
       "      <td>$ 46008</td>\n",
       "      <td>9.9</td>\n",
       "      <td>295.0</td>\n",
       "      <td>122.0</td>\n",
       "      <td>1.500000e+06</td>\n",
       "      <td>$</td>\n",
       "    </tr>\n",
       "    <tr>\n",
       "      <th>2454</th>\n",
       "      <td>tt0027977</td>\n",
       "      <td>Tempi moderni</td>\n",
       "      <td>Modern Times</td>\n",
       "      <td>1936</td>\n",
       "      <td>1937-03-12</td>\n",
       "      <td>Comedy, Drama, Family</td>\n",
       "      <td>87</td>\n",
       "      <td>USA</td>\n",
       "      <td>English</td>\n",
       "      <td>Charles Chaplin</td>\n",
       "      <td>...</td>\n",
       "      <td>8.5</td>\n",
       "      <td>211250</td>\n",
       "      <td>$ 1500000</td>\n",
       "      <td>$ 163577</td>\n",
       "      <td>$ 457688</td>\n",
       "      <td>9.6</td>\n",
       "      <td>307.0</td>\n",
       "      <td>115.0</td>\n",
       "      <td>1.500000e+06</td>\n",
       "      <td>$</td>\n",
       "    </tr>\n",
       "    <tr>\n",
       "      <th>3575</th>\n",
       "      <td>tt0032553</td>\n",
       "      <td>Il grande dittatore</td>\n",
       "      <td>The Great Dictator</td>\n",
       "      <td>1940</td>\n",
       "      <td>1945-06-25</td>\n",
       "      <td>Comedy, Drama, War</td>\n",
       "      <td>125</td>\n",
       "      <td>USA</td>\n",
       "      <td>English, Esperanto</td>\n",
       "      <td>Charles Chaplin</td>\n",
       "      <td>...</td>\n",
       "      <td>8.4</td>\n",
       "      <td>197381</td>\n",
       "      <td>$ 2000000</td>\n",
       "      <td>NaN</td>\n",
       "      <td>$ 969879</td>\n",
       "      <td>NaN</td>\n",
       "      <td>267.0</td>\n",
       "      <td>141.0</td>\n",
       "      <td>2.000000e+06</td>\n",
       "      <td>$</td>\n",
       "    </tr>\n",
       "    <tr>\n",
       "      <th>3816</th>\n",
       "      <td>tt0033467</td>\n",
       "      <td>Quarto potere</td>\n",
       "      <td>Citizen Kane</td>\n",
       "      <td>1941</td>\n",
       "      <td>1948-11-25</td>\n",
       "      <td>Drama, Mystery</td>\n",
       "      <td>119</td>\n",
       "      <td>USA</td>\n",
       "      <td>English, Italian</td>\n",
       "      <td>Orson Welles</td>\n",
       "      <td>...</td>\n",
       "      <td>8.3</td>\n",
       "      <td>389322</td>\n",
       "      <td>$ 839727</td>\n",
       "      <td>$ 1585634</td>\n",
       "      <td>$ 1594107</td>\n",
       "      <td>10.0</td>\n",
       "      <td>1452.0</td>\n",
       "      <td>248.0</td>\n",
       "      <td>8.397270e+05</td>\n",
       "      <td>$</td>\n",
       "    </tr>\n",
       "    <tr>\n",
       "      <th>...</th>\n",
       "      <td>...</td>\n",
       "      <td>...</td>\n",
       "      <td>...</td>\n",
       "      <td>...</td>\n",
       "      <td>...</td>\n",
       "      <td>...</td>\n",
       "      <td>...</td>\n",
       "      <td>...</td>\n",
       "      <td>...</td>\n",
       "      <td>...</td>\n",
       "      <td>...</td>\n",
       "      <td>...</td>\n",
       "      <td>...</td>\n",
       "      <td>...</td>\n",
       "      <td>...</td>\n",
       "      <td>...</td>\n",
       "      <td>...</td>\n",
       "      <td>...</td>\n",
       "      <td>...</td>\n",
       "      <td>...</td>\n",
       "      <td>...</td>\n",
       "    </tr>\n",
       "    <tr>\n",
       "      <th>85591</th>\n",
       "      <td>tt9610354</td>\n",
       "      <td>Ninnu Thalachi</td>\n",
       "      <td>Ninnu Thalachi</td>\n",
       "      <td>2019</td>\n",
       "      <td>2019-09-27</td>\n",
       "      <td>Comedy, Romance</td>\n",
       "      <td>138</td>\n",
       "      <td>India</td>\n",
       "      <td>Telugu</td>\n",
       "      <td>Anil Thota</td>\n",
       "      <td>...</td>\n",
       "      <td>9.3</td>\n",
       "      <td>924</td>\n",
       "      <td>INR 40000000</td>\n",
       "      <td>NaN</td>\n",
       "      <td>NaN</td>\n",
       "      <td>NaN</td>\n",
       "      <td>4.0</td>\n",
       "      <td>NaN</td>\n",
       "      <td>9.728581e+03</td>\n",
       "      <td>INR</td>\n",
       "    </tr>\n",
       "    <tr>\n",
       "      <th>85709</th>\n",
       "      <td>tt9742362</td>\n",
       "      <td>Mallesham</td>\n",
       "      <td>Mallesham</td>\n",
       "      <td>2019</td>\n",
       "      <td>2019-06-21</td>\n",
       "      <td>Biography</td>\n",
       "      <td>131</td>\n",
       "      <td>India</td>\n",
       "      <td>Telugu</td>\n",
       "      <td>Raj Rachakonda</td>\n",
       "      <td>...</td>\n",
       "      <td>8.5</td>\n",
       "      <td>712</td>\n",
       "      <td>INR 20000000</td>\n",
       "      <td>NaN</td>\n",
       "      <td>NaN</td>\n",
       "      <td>NaN</td>\n",
       "      <td>24.0</td>\n",
       "      <td>3.0</td>\n",
       "      <td>4.864290e+03</td>\n",
       "      <td>INR</td>\n",
       "    </tr>\n",
       "    <tr>\n",
       "      <th>85728</th>\n",
       "      <td>tt9766160</td>\n",
       "      <td>Damayanthi</td>\n",
       "      <td>Damayanthi</td>\n",
       "      <td>2019</td>\n",
       "      <td>2019-11-29</td>\n",
       "      <td>Drama</td>\n",
       "      <td>161</td>\n",
       "      <td>India</td>\n",
       "      <td>Kannada</td>\n",
       "      <td>Navarasan</td>\n",
       "      <td>...</td>\n",
       "      <td>8.4</td>\n",
       "      <td>1076</td>\n",
       "      <td>INR 20000000</td>\n",
       "      <td>NaN</td>\n",
       "      <td>NaN</td>\n",
       "      <td>NaN</td>\n",
       "      <td>7.0</td>\n",
       "      <td>NaN</td>\n",
       "      <td>4.864290e+03</td>\n",
       "      <td>INR</td>\n",
       "    </tr>\n",
       "    <tr>\n",
       "      <th>85843</th>\n",
       "      <td>tt9900782</td>\n",
       "      <td>Kaithi</td>\n",
       "      <td>Kaithi</td>\n",
       "      <td>2019</td>\n",
       "      <td>2019-10-25</td>\n",
       "      <td>Action, Thriller</td>\n",
       "      <td>145</td>\n",
       "      <td>India</td>\n",
       "      <td>Tamil</td>\n",
       "      <td>Lokesh Kanagaraj</td>\n",
       "      <td>...</td>\n",
       "      <td>8.5</td>\n",
       "      <td>8400</td>\n",
       "      <td>INR 240000000</td>\n",
       "      <td>NaN</td>\n",
       "      <td>$ 524061</td>\n",
       "      <td>NaN</td>\n",
       "      <td>188.0</td>\n",
       "      <td>8.0</td>\n",
       "      <td>5.837149e+04</td>\n",
       "      <td>INR</td>\n",
       "    </tr>\n",
       "    <tr>\n",
       "      <th>85848</th>\n",
       "      <td>tt9905462</td>\n",
       "      <td>Pengalila</td>\n",
       "      <td>Pengalila</td>\n",
       "      <td>2019</td>\n",
       "      <td>2019-03-08</td>\n",
       "      <td>Drama</td>\n",
       "      <td>111</td>\n",
       "      <td>India</td>\n",
       "      <td>Malayalam</td>\n",
       "      <td>T.V. Chandran</td>\n",
       "      <td>...</td>\n",
       "      <td>8.8</td>\n",
       "      <td>553</td>\n",
       "      <td>INR 10000000</td>\n",
       "      <td>NaN</td>\n",
       "      <td>NaN</td>\n",
       "      <td>NaN</td>\n",
       "      <td>NaN</td>\n",
       "      <td>NaN</td>\n",
       "      <td>2.432145e+03</td>\n",
       "      <td>INR</td>\n",
       "    </tr>\n",
       "  </tbody>\n",
       "</table>\n",
       "<p>203 rows × 24 columns</p>\n",
       "</div>"
      ],
      "text/plain": [
       "      imdb_title_id                title      original_title  year  \\\n",
       "251       tt0012349           Il monello             The Kid  1921   \n",
       "1048      tt0021749     Luci della città         City Lights  1931   \n",
       "2454      tt0027977        Tempi moderni        Modern Times  1936   \n",
       "3575      tt0032553  Il grande dittatore  The Great Dictator  1940   \n",
       "3816      tt0033467        Quarto potere        Citizen Kane  1941   \n",
       "...             ...                  ...                 ...   ...   \n",
       "85591     tt9610354       Ninnu Thalachi      Ninnu Thalachi  2019   \n",
       "85709     tt9742362            Mallesham           Mallesham  2019   \n",
       "85728     tt9766160           Damayanthi          Damayanthi  2019   \n",
       "85843     tt9900782               Kaithi              Kaithi  2019   \n",
       "85848     tt9905462            Pengalila           Pengalila  2019   \n",
       "\n",
       "      date_published                   genre  duration country  \\\n",
       "251       1923-11-26   Comedy, Drama, Family        68     USA   \n",
       "1048      1931-04-02  Comedy, Drama, Romance        87     USA   \n",
       "2454      1937-03-12   Comedy, Drama, Family        87     USA   \n",
       "3575      1945-06-25      Comedy, Drama, War       125     USA   \n",
       "3816      1948-11-25          Drama, Mystery       119     USA   \n",
       "...              ...                     ...       ...     ...   \n",
       "85591     2019-09-27         Comedy, Romance       138   India   \n",
       "85709     2019-06-21               Biography       131   India   \n",
       "85728     2019-11-29                   Drama       161   India   \n",
       "85843     2019-10-25        Action, Thriller       145   India   \n",
       "85848     2019-03-08                   Drama       111   India   \n",
       "\n",
       "                 language          director  ... avg_vote   votes  \\\n",
       "251         English, None   Charles Chaplin  ...      8.3  109038   \n",
       "1048              English   Charles Chaplin  ...      8.5  162668   \n",
       "2454              English   Charles Chaplin  ...      8.5  211250   \n",
       "3575   English, Esperanto   Charles Chaplin  ...      8.4  197381   \n",
       "3816     English, Italian      Orson Welles  ...      8.3  389322   \n",
       "...                   ...               ...  ...      ...     ...   \n",
       "85591              Telugu        Anil Thota  ...      9.3     924   \n",
       "85709              Telugu    Raj Rachakonda  ...      8.5     712   \n",
       "85728             Kannada         Navarasan  ...      8.4    1076   \n",
       "85843               Tamil  Lokesh Kanagaraj  ...      8.5    8400   \n",
       "85848           Malayalam     T.V. Chandran  ...      8.8     553   \n",
       "\n",
       "              budget usa_gross_income  worlwide_gross_income  metascore  \\\n",
       "251         $ 250000              NaN                $ 26916        NaN   \n",
       "1048       $ 1500000          $ 19181                $ 46008        9.9   \n",
       "2454       $ 1500000         $ 163577               $ 457688        9.6   \n",
       "3575       $ 2000000              NaN               $ 969879        NaN   \n",
       "3816        $ 839727        $ 1585634              $ 1594107       10.0   \n",
       "...              ...              ...                    ...        ...   \n",
       "85591   INR 40000000              NaN                    NaN        NaN   \n",
       "85709   INR 20000000              NaN                    NaN        NaN   \n",
       "85728   INR 20000000              NaN                    NaN        NaN   \n",
       "85843  INR 240000000              NaN               $ 524061        NaN   \n",
       "85848   INR 10000000              NaN                    NaN        NaN   \n",
       "\n",
       "      reviews_from_users reviews_from_critics    budget_num  budget_curr  \n",
       "251                173.0                105.0  2.500000e+05            $  \n",
       "1048               295.0                122.0  1.500000e+06            $  \n",
       "2454               307.0                115.0  1.500000e+06            $  \n",
       "3575               267.0                141.0  2.000000e+06            $  \n",
       "3816              1452.0                248.0  8.397270e+05            $  \n",
       "...                  ...                  ...           ...          ...  \n",
       "85591                4.0                  NaN  9.728581e+03          INR  \n",
       "85709               24.0                  3.0  4.864290e+03          INR  \n",
       "85728                7.0                  NaN  4.864290e+03          INR  \n",
       "85843              188.0                  8.0  5.837149e+04          INR  \n",
       "85848                NaN                  NaN  2.432145e+03          INR  \n",
       "\n",
       "[203 rows x 24 columns]"
      ]
     },
     "execution_count": 74,
     "metadata": {},
     "output_type": "execute_result"
    }
   ],
   "source": [
    "mask_success = movies.avg_vote > 8.2\n",
    "maskUSD = movies.budget_curr == \"$\"\n",
    "\n",
    "movies[mask_success & (maskUSD | maskEUR | maskINR | maskGBP | maskCAD)]"
   ]
  },
  {
   "cell_type": "markdown",
   "id": "16cd837a-5a40-462f-9c3b-ded82fb94c57",
   "metadata": {},
   "source": [
    "There are a total of 203 films that were graded higher than 8.2 and had a budget within the top 5 currencies."
   ]
  },
  {
   "cell_type": "markdown",
   "id": "6ae84462-a0f7-49e9-aadb-199681b6df78",
   "metadata": {},
   "source": [
    "Now, since all top 5 currencies have been converted to only one type of currency (US dollar), we can compare the avg_vote to the budget_num."
   ]
  },
  {
   "cell_type": "code",
   "execution_count": 78,
   "id": "ac4a49c7-d671-416e-84fb-0edbd065c22e",
   "metadata": {},
   "outputs": [
    {
     "data": {
      "image/png": "[encoded data removed]",
      "text/plain": [
       "<Figure size 576x396 with 1 Axes>"
      ]
     },
     "metadata": {},
     "output_type": "display_data"
    }
   ],
   "source": [
    "_=movies.plot.scatter(x=\"avg_vote\",y=\"budget_num\")"
   ]
  },
  {
   "cell_type": "markdown",
   "id": "5865013f-d51a-4ea5-9516-899d01c11e58",
   "metadata": {},
   "source": [
    "There is no correlation between the users' vote and the film's budget. And so, **the hypotesis 2 is rejected.**"
   ]
  },
  {
   "cell_type": "markdown",
   "id": "69d71e8f-508e-4480-9c9a-c562ac16115c",
   "metadata": {},
   "source": [
    "### Parte 3\n",
    "**What makes a film successful?**"
   ]
  },
  {
   "cell_type": "code",
   "execution_count": 79,
   "id": "a4bfc5e1-4c84-4042-8cd2-1ead57c10560",
   "metadata": {},
   "outputs": [
    {
     "data": {
      "text/html": [
       "<div>\n",
       "<style scoped>\n",
       "    .dataframe tbody tr th:only-of-type {\n",
       "        vertical-align: middle;\n",
       "    }\n",
       "\n",
       "    .dataframe tbody tr th {\n",
       "        vertical-align: top;\n",
       "    }\n",
       "\n",
       "    .dataframe thead th {\n",
       "        text-align: right;\n",
       "    }\n",
       "</style>\n",
       "<table border=\"1\" class=\"dataframe\">\n",
       "  <thead>\n",
       "    <tr style=\"text-align: right;\">\n",
       "      <th></th>\n",
       "      <th>duration</th>\n",
       "      <th>avg_vote</th>\n",
       "      <th>votes</th>\n",
       "      <th>metascore</th>\n",
       "      <th>reviews_from_users</th>\n",
       "      <th>reviews_from_critics</th>\n",
       "      <th>budget_num</th>\n",
       "    </tr>\n",
       "  </thead>\n",
       "  <tbody>\n",
       "    <tr>\n",
       "      <th>duration</th>\n",
       "      <td>1.000000</td>\n",
       "      <td>0.242432</td>\n",
       "      <td>0.125618</td>\n",
       "      <td>0.210531</td>\n",
       "      <td>0.130836</td>\n",
       "      <td>0.135465</td>\n",
       "      <td>0.012886</td>\n",
       "    </tr>\n",
       "    <tr>\n",
       "      <th>avg_vote</th>\n",
       "      <td>0.242432</td>\n",
       "      <td>1.000000</td>\n",
       "      <td>0.166972</td>\n",
       "      <td>0.691338</td>\n",
       "      <td>0.138185</td>\n",
       "      <td>0.200526</td>\n",
       "      <td>-0.007594</td>\n",
       "    </tr>\n",
       "    <tr>\n",
       "      <th>votes</th>\n",
       "      <td>0.125618</td>\n",
       "      <td>0.166972</td>\n",
       "      <td>1.000000</td>\n",
       "      <td>0.194730</td>\n",
       "      <td>0.766237</td>\n",
       "      <td>0.671635</td>\n",
       "      <td>-0.002810</td>\n",
       "    </tr>\n",
       "    <tr>\n",
       "      <th>metascore</th>\n",
       "      <td>0.210531</td>\n",
       "      <td>0.691338</td>\n",
       "      <td>0.194730</td>\n",
       "      <td>1.000000</td>\n",
       "      <td>0.126131</td>\n",
       "      <td>0.236107</td>\n",
       "      <td>0.010813</td>\n",
       "    </tr>\n",
       "    <tr>\n",
       "      <th>reviews_from_users</th>\n",
       "      <td>0.130836</td>\n",
       "      <td>0.138185</td>\n",
       "      <td>0.766237</td>\n",
       "      <td>0.126131</td>\n",
       "      <td>1.000000</td>\n",
       "      <td>0.671634</td>\n",
       "      <td>0.000349</td>\n",
       "    </tr>\n",
       "    <tr>\n",
       "      <th>reviews_from_critics</th>\n",
       "      <td>0.135465</td>\n",
       "      <td>0.200526</td>\n",
       "      <td>0.671635</td>\n",
       "      <td>0.236107</td>\n",
       "      <td>0.671634</td>\n",
       "      <td>1.000000</td>\n",
       "      <td>-0.005915</td>\n",
       "    </tr>\n",
       "    <tr>\n",
       "      <th>budget_num</th>\n",
       "      <td>0.012886</td>\n",
       "      <td>-0.007594</td>\n",
       "      <td>-0.002810</td>\n",
       "      <td>0.010813</td>\n",
       "      <td>0.000349</td>\n",
       "      <td>-0.005915</td>\n",
       "      <td>1.000000</td>\n",
       "    </tr>\n",
       "  </tbody>\n",
       "</table>\n",
       "</div>"
      ],
      "text/plain": [
       "                      duration  avg_vote     votes  metascore  \\\n",
       "duration              1.000000  0.242432  0.125618   0.210531   \n",
       "avg_vote              0.242432  1.000000  0.166972   0.691338   \n",
       "votes                 0.125618  0.166972  1.000000   0.194730   \n",
       "metascore             0.210531  0.691338  0.194730   1.000000   \n",
       "reviews_from_users    0.130836  0.138185  0.766237   0.126131   \n",
       "reviews_from_critics  0.135465  0.200526  0.671635   0.236107   \n",
       "budget_num            0.012886 -0.007594 -0.002810   0.010813   \n",
       "\n",
       "                      reviews_from_users  reviews_from_critics  budget_num  \n",
       "duration                        0.130836              0.135465    0.012886  \n",
       "avg_vote                        0.138185              0.200526   -0.007594  \n",
       "votes                           0.766237              0.671635   -0.002810  \n",
       "metascore                       0.126131              0.236107    0.010813  \n",
       "reviews_from_users              1.000000              0.671634    0.000349  \n",
       "reviews_from_critics            0.671634              1.000000   -0.005915  \n",
       "budget_num                      0.000349             -0.005915    1.000000  "
      ]
     },
     "execution_count": 79,
     "metadata": {},
     "output_type": "execute_result"
    }
   ],
   "source": [
    "movies.corr()"
   ]
  },
  {
   "cell_type": "markdown",
   "id": "9724b01f-c46c-4f91-bc2b-d20d32900175",
   "metadata": {},
   "source": [
    "According to the correlation table, there isn't a correlation between the avg_vote and the year, duration or budget. This means that neither the year of the film's publishing, the duration of the film nor the budget will impact on the film's success. And so, we proceed to analyze the impact of the qualitative variables considering the highest rated films previously obtained."
   ]
  },
  {
   "cell_type": "code",
   "execution_count": null,
   "id": "f3cf57a2-f528-48ef-a618-9dcfa27af651",
   "metadata": {},
   "outputs": [],
   "source": []
  }
 ],
 "metadata": {
  "kernelspec": {
   "display_name": "Python 3",
   "language": "python",
   "name": "python3"
  },
  "language_info": {
   "codemirror_mode": {
    "name": "ipython",
    "version": 3
   },
   "file_extension": ".py",
   "mimetype": "text/x-python",
   "name": "python",
   "nbconvert_exporter": "python",
   "pygments_lexer": "ipython3",
   "version": "3.8.8"
  }
 },
 "nbformat": 4,
 "nbformat_minor": 5
}
